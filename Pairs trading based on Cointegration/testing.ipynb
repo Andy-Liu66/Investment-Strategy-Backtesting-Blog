{
 "cells": [
  {
   "cell_type": "code",
   "execution_count": 1,
   "metadata": {},
   "outputs": [
    {
     "name": "stderr",
     "output_type": "stream",
     "text": [
      "C:\\Users\\andy5\\Anaconda3\\lib\\site-packages\\statsmodels\\compat\\pandas.py:56: FutureWarning: The pandas.core.datetools module is deprecated and will be removed in a future version. Please use the pandas.tseries module instead.\n",
      "  from pandas.core import datetools\n"
     ]
    }
   ],
   "source": [
    "import pandas as pd\n",
    "import numpy as np\n",
    "from datetime import datetime\n",
    "import itertools\n",
    "from statistical_functions import preprocess, test_is_I1, test_is_tradable\n",
    "import matplotlib.pyplot as plt"
   ]
  },
  {
   "cell_type": "markdown",
   "metadata": {},
   "source": [
    "# Notice\n",
    "* We haven't consider capital management yet, but it is fairly important.\n",
    "* Haven't consider unlisted stocks."
   ]
  },
  {
   "cell_type": "markdown",
   "metadata": {},
   "source": [
    "# Preprocess"
   ]
  },
  {
   "cell_type": "code",
   "execution_count": 2,
   "metadata": {
    "scrolled": false
   },
   "outputs": [
    {
     "data": {
      "text/html": [
       "<div>\n",
       "<style scoped>\n",
       "    .dataframe tbody tr th:only-of-type {\n",
       "        vertical-align: middle;\n",
       "    }\n",
       "\n",
       "    .dataframe tbody tr th {\n",
       "        vertical-align: top;\n",
       "    }\n",
       "\n",
       "    .dataframe thead th {\n",
       "        text-align: right;\n",
       "    }\n",
       "</style>\n",
       "<table border=\"1\" class=\"dataframe\">\n",
       "  <thead>\n",
       "    <tr style=\"text-align: right;\">\n",
       "      <th></th>\n",
       "      <th>code</th>\n",
       "      <th>name</th>\n",
       "      <th>industry_code</th>\n",
       "      <th>industry</th>\n",
       "      <th>date</th>\n",
       "      <th>price</th>\n",
       "      <th>year</th>\n",
       "      <th>month</th>\n",
       "      <th>week</th>\n",
       "      <th>dayofweek</th>\n",
       "    </tr>\n",
       "  </thead>\n",
       "  <tbody>\n",
       "    <tr>\n",
       "      <th>0</th>\n",
       "      <td>1471</td>\n",
       "      <td>首利</td>\n",
       "      <td>M23D</td>\n",
       "      <td>電子零組件</td>\n",
       "      <td>2000-01-04</td>\n",
       "      <td>8.98</td>\n",
       "      <td>2000</td>\n",
       "      <td>1</td>\n",
       "      <td>1</td>\n",
       "      <td>1</td>\n",
       "    </tr>\n",
       "    <tr>\n",
       "      <th>16</th>\n",
       "      <td>2492</td>\n",
       "      <td>華新科</td>\n",
       "      <td>M23D</td>\n",
       "      <td>電子零組件</td>\n",
       "      <td>2000-01-04</td>\n",
       "      <td>35.06</td>\n",
       "      <td>2000</td>\n",
       "      <td>1</td>\n",
       "      <td>1</td>\n",
       "      <td>1</td>\n",
       "    </tr>\n",
       "    <tr>\n",
       "      <th>15</th>\n",
       "      <td>2484</td>\n",
       "      <td>希華</td>\n",
       "      <td>M23D</td>\n",
       "      <td>電子零組件</td>\n",
       "      <td>2000-01-04</td>\n",
       "      <td>23.85</td>\n",
       "      <td>2000</td>\n",
       "      <td>1</td>\n",
       "      <td>1</td>\n",
       "      <td>1</td>\n",
       "    </tr>\n",
       "    <tr>\n",
       "      <th>14</th>\n",
       "      <td>2483</td>\n",
       "      <td>百容</td>\n",
       "      <td>M23D</td>\n",
       "      <td>電子零組件</td>\n",
       "      <td>2000-01-04</td>\n",
       "      <td>15.29</td>\n",
       "      <td>2000</td>\n",
       "      <td>1</td>\n",
       "      <td>1</td>\n",
       "      <td>1</td>\n",
       "    </tr>\n",
       "    <tr>\n",
       "      <th>13</th>\n",
       "      <td>2478</td>\n",
       "      <td>大毅</td>\n",
       "      <td>M23D</td>\n",
       "      <td>電子零組件</td>\n",
       "      <td>2000-01-04</td>\n",
       "      <td>12.86</td>\n",
       "      <td>2000</td>\n",
       "      <td>1</td>\n",
       "      <td>1</td>\n",
       "      <td>1</td>\n",
       "    </tr>\n",
       "  </tbody>\n",
       "</table>\n",
       "</div>"
      ],
      "text/plain": [
       "    code         name industry_code industry       date  price  year  month  \\\n",
       "0   1471  首利                  M23D     電子零組件 2000-01-04   8.98  2000      1   \n",
       "16  2492   華新科                M23D     電子零組件 2000-01-04  35.06  2000      1   \n",
       "15  2484  希華                  M23D     電子零組件 2000-01-04  23.85  2000      1   \n",
       "14  2483  百容                  M23D     電子零組件 2000-01-04  15.29  2000      1   \n",
       "13  2478  大毅                  M23D     電子零組件 2000-01-04  12.86  2000      1   \n",
       "\n",
       "    week  dayofweek  \n",
       "0      1          1  \n",
       "16     1          1  \n",
       "15     1          1  \n",
       "14     1          1  \n",
       "13     1          1  "
      ]
     },
     "execution_count": 2,
     "metadata": {},
     "output_type": "execute_result"
    }
   ],
   "source": [
    "data = pd.read_csv(\"ec_data.csv\")\n",
    "data.date = data.date.apply(lambda x: datetime.strptime(x, \"%Y-%m-%d\"))\n",
    "data['year'] = data.date.apply(lambda x: x.year)\n",
    "data['month'] = data.date.apply(lambda x: x.month)\n",
    "data['week'] = data.date.apply(lambda x: x.week)\n",
    "data['dayofweek'] = data.date.apply(lambda x: x.dayofweek)\n",
    "data.sort_values('date', inplace=True)\n",
    "data.head()"
   ]
  },
  {
   "cell_type": "code",
   "execution_count": 3,
   "metadata": {},
   "outputs": [],
   "source": [
    "# create possible pairs\n",
    "possible_pairs = list(\n",
    "    itertools.combinations(data.code.unique(), 2)\n",
    ")\n",
    "\n",
    "# create trading time frame\n",
    "timeframe = data[['year', 'month', 'week']].drop_duplicates()\n",
    "timeframe.reset_index(drop=True, inplace=True)\n",
    "\n",
    "# create dataframe of date for available data\n",
    "# it will be used to check whether stocks containing enough data\n",
    "# before further cointegration testing\n",
    "# trade off between speed and more possible pairs\n",
    "date = pd.DataFrame(data.date.unique(), columns=['date'])\n",
    "date['year'] = date.date.apply(lambda x: x.year)\n",
    "date['month'] = date.date.apply(lambda x: x.month)\n",
    "date['week'] = date.date.apply(lambda x: x.week)\n",
    "date['dayofweek'] = date.date.apply(lambda x: x.dayofweek)"
   ]
  },
  {
   "cell_type": "code",
   "execution_count": 4,
   "metadata": {},
   "outputs": [],
   "source": [
    "# initial part\n",
    "trailing_windows = 52\n",
    "current_step = trailing_windows"
   ]
  },
  {
   "cell_type": "code",
   "execution_count": 5,
   "metadata": {
    "scrolled": true
   },
   "outputs": [],
   "source": [
    "# trailing part\n",
    "timeframe_for_model = timeframe.iloc[current_step-trailing_windows: current_step]\n",
    "\n",
    "data_for_model = data[\n",
    "    (data.year >= timeframe_for_model.year.iloc[0]) &\n",
    "    (data.week >= timeframe_for_model.week.iloc[0]) &\n",
    "    (data.year <= timeframe_for_model.year.iloc[-1]) &\n",
    "    (data.week <= timeframe_for_model.week.iloc[-1])\n",
    "]\n",
    "\n",
    "date_for_model = date[\n",
    "    (date.year >= timeframe_for_model.year.iloc[0]) &\n",
    "    (date.week >= timeframe_for_model.week.iloc[0]) &\n",
    "    (date.year <= timeframe_for_model.year.iloc[-1]) &\n",
    "    (date.week <= timeframe_for_model.week.iloc[-1])\n",
    "]\n",
    "\n",
    "possible_pairs = list(\n",
    "    itertools.combinations(data_for_model.code.unique(), 2)\n",
    ")\n",
    "\n",
    "\n",
    "\n",
    "\n",
    "# current_step += 1"
   ]
  },
  {
   "cell_type": "code",
   "execution_count": 8,
   "metadata": {},
   "outputs": [
    {
     "name": "stdout",
     "output_type": "stream",
     "text": [
      "Wall time: 4.88 s\n"
     ]
    }
   ],
   "source": [
    "%%time\n",
    "tradable_pairs_3 = pd.DataFrame()\n",
    "for pair in possible_pairs:\n",
    "    stock_1 = data_for_model[data_for_model.code == pair[0]]\n",
    "    stock_2 = data_for_model[data_for_model.code == pair[1]]\n",
    "    if len(stock_1) == len(stock_2) == len(date_for_model):\n",
    "        temp_pair = test_is_tradable(stock_1.price, stock_2.price)\n",
    "        if temp_pair is not None:\n",
    "            temp_pair.index = [pair]\n",
    "            tradable_pairs_3 = pd.concat([tradable_pairs_3, temp_pair])"
   ]
  },
  {
   "cell_type": "code",
   "execution_count": 9,
   "metadata": {},
   "outputs": [
    {
     "name": "stdout",
     "output_type": "stream",
     "text": [
      "    99 86 86\n"
     ]
    }
   ],
   "source": [
    "print(\n",
    "    \"   \", len(tradable_pairs), len(tradable_pairs_2), len(tradable_pairs_3)\n",
    ")"
   ]
  },
  {
   "cell_type": "code",
   "execution_count": null,
   "metadata": {},
   "outputs": [],
   "source": []
  },
  {
   "cell_type": "code",
   "execution_count": null,
   "metadata": {},
   "outputs": [],
   "source": []
  },
  {
   "cell_type": "code",
   "execution_count": null,
   "metadata": {},
   "outputs": [],
   "source": []
  },
  {
   "cell_type": "code",
   "execution_count": null,
   "metadata": {},
   "outputs": [],
   "source": []
  },
  {
   "cell_type": "code",
   "execution_count": null,
   "metadata": {},
   "outputs": [],
   "source": []
  },
  {
   "cell_type": "code",
   "execution_count": null,
   "metadata": {},
   "outputs": [],
   "source": []
  },
  {
   "cell_type": "code",
   "execution_count": null,
   "metadata": {},
   "outputs": [],
   "source": []
  },
  {
   "cell_type": "code",
   "execution_count": null,
   "metadata": {},
   "outputs": [],
   "source": []
  },
  {
   "cell_type": "code",
   "execution_count": null,
   "metadata": {},
   "outputs": [],
   "source": [
    "%%time\n",
    "tradable_pairs = pd.DataFrame()\n",
    "for pair in possible_pairs:\n",
    "    stock_1 = data_for_model[data_for_model.code == pair[0]]\n",
    "    stock_2 = data_for_model[data_for_model.code == pair[1]]\n",
    "    # to ensure stock_1 and, stock_2 are match in date\n",
    "    stock_1, stock_2 = preprocess(stock_1, stock_2)\n",
    "    # to avoid \"maxlag should be < nobs\" error in ADF test\n",
    "    # also ensure there is enough data for regression\n",
    "    if len(stock_1) > 200:\n",
    "        temp_pair = test_is_tradable(stock_1.price, stock_2.price)\n",
    "        if temp_pair is not None:\n",
    "            temp_pair.index = [pair]\n",
    "            tradable_pairs = pd.concat([tradable_pairs, temp_pair])"
   ]
  },
  {
   "cell_type": "code",
   "execution_count": null,
   "metadata": {},
   "outputs": [],
   "source": [
    "%%time\n",
    "tradable_pairs_2 = pd.DataFrame()\n",
    "for pair in possible_pairs:\n",
    "    stock_1 = data_for_model[data_for_model.code == pair[0]]\n",
    "    stock_2 = data_for_model[data_for_model.code == pair[1]]\n",
    "    # to ensure stock_1 and, stock_2 are match in date\n",
    "#     stock_1, stock_2 = preprocess(stock_1, stock_2)\n",
    "    # to avoid \"maxlag should be < nobs\" error in ADF test\n",
    "    # also ensure there is enough data for regression\n",
    "    if len(stock_1) > 200:\n",
    "        try:\n",
    "            temp_pair = test_is_tradable(stock_1.price, stock_2.price)\n",
    "            if temp_pair is not None:\n",
    "                temp_pair.index = [pair]\n",
    "                tradable_pairs_2 = pd.concat([tradable_pairs_2, temp_pair])\n",
    "        except:\n",
    "            pass"
   ]
  }
 ],
 "metadata": {
  "kernelspec": {
   "display_name": "Python 3",
   "language": "python",
   "name": "python3"
  },
  "language_info": {
   "codemirror_mode": {
    "name": "ipython",
    "version": 3
   },
   "file_extension": ".py",
   "mimetype": "text/x-python",
   "name": "python",
   "nbconvert_exporter": "python",
   "pygments_lexer": "ipython3",
   "version": "3.6.3"
  }
 },
 "nbformat": 4,
 "nbformat_minor": 2
}
