{
 "cells": [
  {
   "cell_type": "code",
   "execution_count": 7,
   "metadata": {},
   "outputs": [],
   "source": [
    "import pandas as pd\n",
    "import numpy as np\n",
    "from datetime import datetime\n",
    "import itertools\n",
    "from statistical_functions import test_is_I1, test_is_tradable\n",
    "import matplotlib.pyplot as plt"
   ]
  },
  {
   "cell_type": "markdown",
   "metadata": {},
   "source": [
    "# Preprocess"
   ]
  },
  {
   "cell_type": "code",
   "execution_count": 45,
   "metadata": {
    "scrolled": false
   },
   "outputs": [
    {
     "data": {
      "text/html": [
       "<div>\n",
       "<style scoped>\n",
       "    .dataframe tbody tr th:only-of-type {\n",
       "        vertical-align: middle;\n",
       "    }\n",
       "\n",
       "    .dataframe tbody tr th {\n",
       "        vertical-align: top;\n",
       "    }\n",
       "\n",
       "    .dataframe thead th {\n",
       "        text-align: right;\n",
       "    }\n",
       "</style>\n",
       "<table border=\"1\" class=\"dataframe\">\n",
       "  <thead>\n",
       "    <tr style=\"text-align: right;\">\n",
       "      <th></th>\n",
       "      <th>code</th>\n",
       "      <th>name</th>\n",
       "      <th>industry_code</th>\n",
       "      <th>industry</th>\n",
       "      <th>date</th>\n",
       "      <th>price</th>\n",
       "      <th>year</th>\n",
       "      <th>week</th>\n",
       "      <th>day</th>\n",
       "    </tr>\n",
       "  </thead>\n",
       "  <tbody>\n",
       "    <tr>\n",
       "      <th>0</th>\n",
       "      <td>1471</td>\n",
       "      <td>首利</td>\n",
       "      <td>M23D</td>\n",
       "      <td>電子零組件</td>\n",
       "      <td>2000-01-04</td>\n",
       "      <td>8.98</td>\n",
       "      <td>2000</td>\n",
       "      <td>1</td>\n",
       "      <td>4</td>\n",
       "    </tr>\n",
       "    <tr>\n",
       "      <th>1</th>\n",
       "      <td>2308</td>\n",
       "      <td>台達電</td>\n",
       "      <td>M23D</td>\n",
       "      <td>電子零組件</td>\n",
       "      <td>2000-01-04</td>\n",
       "      <td>25.32</td>\n",
       "      <td>2000</td>\n",
       "      <td>1</td>\n",
       "      <td>4</td>\n",
       "    </tr>\n",
       "    <tr>\n",
       "      <th>2</th>\n",
       "      <td>2327</td>\n",
       "      <td>國巨</td>\n",
       "      <td>M23D</td>\n",
       "      <td>電子零組件</td>\n",
       "      <td>2000-01-04</td>\n",
       "      <td>55.14</td>\n",
       "      <td>2000</td>\n",
       "      <td>1</td>\n",
       "      <td>4</td>\n",
       "    </tr>\n",
       "    <tr>\n",
       "      <th>3</th>\n",
       "      <td>2328</td>\n",
       "      <td>廣宇</td>\n",
       "      <td>M23D</td>\n",
       "      <td>電子零組件</td>\n",
       "      <td>2000-01-04</td>\n",
       "      <td>17.59</td>\n",
       "      <td>2000</td>\n",
       "      <td>1</td>\n",
       "      <td>4</td>\n",
       "    </tr>\n",
       "    <tr>\n",
       "      <th>4</th>\n",
       "      <td>2375</td>\n",
       "      <td>智寶</td>\n",
       "      <td>M23D</td>\n",
       "      <td>電子零組件</td>\n",
       "      <td>2000-01-04</td>\n",
       "      <td>46.39</td>\n",
       "      <td>2000</td>\n",
       "      <td>1</td>\n",
       "      <td>4</td>\n",
       "    </tr>\n",
       "  </tbody>\n",
       "</table>\n",
       "</div>"
      ],
      "text/plain": [
       "   code         name industry_code industry       date  price  year  week  day\n",
       "0  1471  首利                  M23D     電子零組件 2000-01-04   8.98  2000     1    4\n",
       "1  2308   台達電                M23D     電子零組件 2000-01-04  25.32  2000     1    4\n",
       "2  2327  國巨                  M23D     電子零組件 2000-01-04  55.14  2000     1    4\n",
       "3  2328  廣宇                  M23D     電子零組件 2000-01-04  17.59  2000     1    4\n",
       "4  2375  智寶                  M23D     電子零組件 2000-01-04  46.39  2000     1    4"
      ]
     },
     "execution_count": 45,
     "metadata": {},
     "output_type": "execute_result"
    }
   ],
   "source": [
    "data = pd.read_csv(\"ec_data.csv\")\n",
    "data.date = data.date.apply(lambda x: datetime.strptime(x, \"%Y-%m-%d\"))\n",
    "data['year'] = data.date.apply(lambda x: x.year)\n",
    "data['week'] = data.date.apply(lambda x: x.dayofweek)\n",
    "data['day'] = data.date.apply(lambda x: x.day)\n",
    "data.head()"
   ]
  },
  {
   "cell_type": "code",
   "execution_count": 3,
   "metadata": {},
   "outputs": [],
   "source": [
    "# create possible pairs\n",
    "posible_pairs = list(\n",
    "    itertools.combinations(data.code.unique(), 2)\n",
    ")"
   ]
  },
  {
   "cell_type": "code",
   "execution_count": 4,
   "metadata": {
    "scrolled": true
   },
   "outputs": [
    {
     "data": {
      "text/plain": [
       "(1471, 2308)"
      ]
     },
     "execution_count": 4,
     "metadata": {},
     "output_type": "execute_result"
    }
   ],
   "source": [
    "posible_pairs[0]"
   ]
  },
  {
   "cell_type": "code",
   "execution_count": 69,
   "metadata": {},
   "outputs": [],
   "source": [
    "trade_timeframe = np.unique(list(zip(data.year, data.week)), axis=0)"
   ]
  },
  {
   "cell_type": "code",
   "execution_count": 72,
   "metadata": {},
   "outputs": [],
   "source": [
    "temp_trade_timeframe = trade_timeframe[0]"
   ]
  },
  {
   "cell_type": "code",
   "execution_count": 79,
   "metadata": {},
   "outputs": [],
   "source": [
    "test_data = data[(data.year == temp_trade_timeframe[0]) &\n",
    "                 (data.week == temp_trade_timeframe[1])]"
   ]
  },
  {
   "cell_type": "code",
   "execution_count": null,
   "metadata": {},
   "outputs": [],
   "source": [
    "test_is_tradable()"
   ]
  }
 ],
 "metadata": {
  "kernelspec": {
   "display_name": "Python 3",
   "language": "python",
   "name": "python3"
  },
  "language_info": {
   "codemirror_mode": {
    "name": "ipython",
    "version": 3
   },
   "file_extension": ".py",
   "mimetype": "text/x-python",
   "name": "python",
   "nbconvert_exporter": "python",
   "pygments_lexer": "ipython3",
   "version": "3.6.3"
  }
 },
 "nbformat": 4,
 "nbformat_minor": 2
}
