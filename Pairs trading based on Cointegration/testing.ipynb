{
 "cells": [
  {
   "cell_type": "code",
   "execution_count": 1,
   "metadata": {},
   "outputs": [
    {
     "name": "stderr",
     "output_type": "stream",
     "text": [
      "C:\\Users\\andy5\\Anaconda3\\lib\\site-packages\\statsmodels\\compat\\pandas.py:56: FutureWarning: The pandas.core.datetools module is deprecated and will be removed in a future version. Please use the pandas.tseries module instead.\n",
      "  from pandas.core import datetools\n"
     ]
    }
   ],
   "source": [
    "import pandas as pd\n",
    "import numpy as np\n",
    "from datetime import datetime\n",
    "import itertools\n",
    "from statistical_functions import preprocess, test_is_I1, test_is_tradable\n",
    "import matplotlib.pyplot as plt"
   ]
  },
  {
   "cell_type": "markdown",
   "metadata": {},
   "source": [
    "# Notice\n",
    "* We haven't consider capital management yet, but it is fairly important.\n",
    "* Haven't consider unlisted stocks."
   ]
  },
  {
   "cell_type": "markdown",
   "metadata": {},
   "source": [
    "# Preprocess"
   ]
  },
  {
   "cell_type": "code",
   "execution_count": 2,
   "metadata": {
    "scrolled": false
   },
   "outputs": [
    {
     "name": "stdout",
     "output_type": "stream",
     "text": [
      "Wall time: 25 s\n"
     ]
    }
   ],
   "source": [
    "%%time\n",
    "data = pd.read_csv(\"ec_data.csv\")\n",
    "data.date = data.date.apply(lambda x: datetime.strptime(x, \"%Y-%m-%d\"))\n",
    "data['year'] = data.date.apply(lambda x: x.year)\n",
    "data['month'] = data.date.apply(lambda x: x.month)\n",
    "data['week'] = data.date.apply(lambda x: x.week)\n",
    "data['dayofweek'] = data.date.apply(lambda x: x.dayofweek)\n",
    "data.sort_values('date', inplace=True)\n",
    "data.head()"
   ]
  },
  {
   "cell_type": "code",
   "execution_count": 3,
   "metadata": {},
   "outputs": [],
   "source": [
    "# create possible pairs\n",
    "possible_pairs = list(\n",
    "    itertools.combinations(data.code.unique(), 2)\n",
    ")\n",
    "\n",
    "# create trading time frame\n",
    "timeframe = data[['year', 'month', 'week']].drop_duplicates()\n",
    "timeframe.reset_index(drop=True, inplace=True)\n",
    "\n",
    "# create dataframe of date for available data\n",
    "# it will be used to check whether stocks containing enough data\n",
    "# before further cointegration testing\n",
    "# trade off between speed and more possible pairs\n",
    "date = pd.DataFrame(data.date.unique(), columns=['date'])\n",
    "date['year'] = date.date.apply(lambda x: x.year)\n",
    "date['month'] = date.date.apply(lambda x: x.month)\n",
    "date['week'] = date.date.apply(lambda x: x.week)\n",
    "date['dayofweek'] = date.date.apply(lambda x: x.dayofweek)"
   ]
  },
  {
   "cell_type": "markdown",
   "metadata": {},
   "source": [
    "# Backtest"
   ]
  },
  {
   "cell_type": "code",
   "execution_count": 4,
   "metadata": {},
   "outputs": [],
   "source": [
    "# initial part\n",
    "trailing_windows = 52\n",
    "current_step = trailing_windows\n",
    "ADF_threshold = -2\n",
    "ASR_threshold = 1.5"
   ]
  },
  {
   "cell_type": "code",
   "execution_count": 9,
   "metadata": {
    "scrolled": true
   },
   "outputs": [
    {
     "name": "stdout",
     "output_type": "stream",
     "text": [
      "Wall time: 14.7 s\n"
     ]
    }
   ],
   "source": [
    "%%time\n",
    "# trailing part\n",
    "# prepare data for model\n",
    "timeframe_for_model = timeframe.iloc[current_step-trailing_windows: current_step]\n",
    "\n",
    "date_for_model = date[\n",
    "    (date.year >= timeframe_for_model.year.iloc[0]) &\n",
    "    (date.week >= timeframe_for_model.week.iloc[0]) &\n",
    "    (date.year <= timeframe_for_model.year.iloc[-1]) &\n",
    "    (date.week <= timeframe_for_model.week.iloc[-1])\n",
    "]\n",
    "\n",
    "data_for_model = data[\n",
    "    (data.year >= timeframe_for_model.year.iloc[0]) &\n",
    "    (data.week >= timeframe_for_model.week.iloc[0]) &\n",
    "    (data.year <= timeframe_for_model.year.iloc[-1]) &\n",
    "    (data.week <= timeframe_for_model.week.iloc[-1])\n",
    "]\n",
    "\n",
    "# prepare data for spread\n",
    "timeframe_for_spread = timeframe.iloc[current_step]\n",
    "\n",
    "date_for_spread = date[\n",
    "    (date.year == timeframe_for_spread.year) &\n",
    "    (date.week == timeframe_for_spread.week)\n",
    "]\n",
    "\n",
    "data_for_spread = data[\n",
    "    (data.year == timeframe_for_spread.year) &\n",
    "    (data.week == timeframe_for_spread.week)\n",
    "]\n",
    "data_for_spread = data_for_spread[data_for_spread.date == date_for_spread.date.iloc[0]]\n",
    "\n",
    "# find tradable pairs\n",
    "possible_pairs = list(\n",
    "    itertools.combinations(data_for_model.code.unique(), 2)\n",
    ")\n",
    "\n",
    "tradable_pairs = pd.DataFrame()\n",
    "for pair in possible_pairs:\n",
    "    stock_1 = data_for_model[data_for_model.code == pair[0]]\n",
    "    stock_2 = data_for_model[data_for_model.code == pair[1]]\n",
    "    if len(stock_1) == len(stock_2) == len(date_for_model):\n",
    "        temp_pair = test_is_tradable(stock_1.price, stock_2.price)\n",
    "        if temp_pair is not None:\n",
    "            temp_pair.index = [pair]\n",
    "            tradable_pairs = pd.concat([tradable_pairs, temp_pair])\n",
    "\n",
    "# calaulate statistics for tradable pairs\n",
    "tradable_pairs['stock_1'] = None\n",
    "tradable_pairs['stock_2'] = None\n",
    "\n",
    "tradable_pairs[['stock_1', 'stock_2']] = list(map(\n",
    "    lambda x: [\n",
    "        data_for_spread[data_for_spread.code == x[0]].price.values[0],\n",
    "        data_for_spread[data_for_spread.code == x[1]].price.values[0]\n",
    "    ],\n",
    "    tradable_pairs.index\n",
    "))\n",
    "\n",
    "tradable_pairs[['stock_1_log', 'stock_2_log']] = np.log(tradable_pairs[['stock_1', 'stock_2']])           \n",
    "\n",
    "tradable_pairs['spread'] = (\n",
    "    tradable_pairs.stock_2_log - \n",
    "    tradable_pairs.intercept -\n",
    "    tradable_pairs.hedge_ratio*tradable_pairs.stock_1_log\n",
    ")\n",
    "\n",
    "tradable_pairs['ASR'] = abs(tradable_pairs.spread)/tradable_pairs.sigma\n",
    "\n",
    "tradable_pairs['PS'] = np.power(\n",
    "    tradable_pairs.ASR,\n",
    "    ADF_threshold - tradable_pairs.ADF_statistic\n",
    ")\n",
    "\n",
    "# current_step += 1"
   ]
  },
  {
   "cell_type": "code",
   "execution_count": 16,
   "metadata": {
    "scrolled": true
   },
   "outputs": [
    {
     "data": {
      "text/html": [
       "<div>\n",
       "<style scoped>\n",
       "    .dataframe tbody tr th:only-of-type {\n",
       "        vertical-align: middle;\n",
       "    }\n",
       "\n",
       "    .dataframe tbody tr th {\n",
       "        vertical-align: top;\n",
       "    }\n",
       "\n",
       "    .dataframe thead th {\n",
       "        text-align: right;\n",
       "    }\n",
       "</style>\n",
       "<table border=\"1\" class=\"dataframe\">\n",
       "  <thead>\n",
       "    <tr style=\"text-align: right;\">\n",
       "      <th></th>\n",
       "      <th>hedge_ratio</th>\n",
       "      <th>intercept</th>\n",
       "      <th>sigma</th>\n",
       "      <th>ADF_statistic</th>\n",
       "      <th>stock_1</th>\n",
       "      <th>stock_2</th>\n",
       "      <th>stock_1_log</th>\n",
       "      <th>stock_2_log</th>\n",
       "      <th>spread</th>\n",
       "      <th>ASR</th>\n",
       "      <th>PS</th>\n",
       "    </tr>\n",
       "  </thead>\n",
       "  <tbody>\n",
       "    <tr>\n",
       "      <th>(2413, 2392)</th>\n",
       "      <td>1.067716</td>\n",
       "      <td>-1.382207</td>\n",
       "      <td>0.102011</td>\n",
       "      <td>-3.876335</td>\n",
       "      <td>41.32</td>\n",
       "      <td>15.58</td>\n",
       "      <td>3.721347</td>\n",
       "      <td>2.745988</td>\n",
       "      <td>0.154853</td>\n",
       "      <td>1.518007</td>\n",
       "      <td>2.188418</td>\n",
       "    </tr>\n",
       "    <tr>\n",
       "      <th>(2328, 2327)</th>\n",
       "      <td>0.570884</td>\n",
       "      <td>2.437207</td>\n",
       "      <td>0.105195</td>\n",
       "      <td>-2.128007</td>\n",
       "      <td>8.94</td>\n",
       "      <td>52.25</td>\n",
       "      <td>2.190536</td>\n",
       "      <td>3.956040</td>\n",
       "      <td>0.268292</td>\n",
       "      <td>2.550419</td>\n",
       "      <td>1.127325</td>\n",
       "    </tr>\n",
       "    <tr>\n",
       "      <th>(1471, 2327)</th>\n",
       "      <td>0.641634</td>\n",
       "      <td>2.744702</td>\n",
       "      <td>0.153445</td>\n",
       "      <td>-2.147851</td>\n",
       "      <td>4.60</td>\n",
       "      <td>52.25</td>\n",
       "      <td>1.526056</td>\n",
       "      <td>3.956040</td>\n",
       "      <td>0.232169</td>\n",
       "      <td>1.513043</td>\n",
       "      <td>1.063142</td>\n",
       "    </tr>\n",
       "  </tbody>\n",
       "</table>\n",
       "</div>"
      ],
      "text/plain": [
       "              hedge_ratio  intercept     sigma  ADF_statistic  stock_1  \\\n",
       "(2413, 2392)     1.067716  -1.382207  0.102011      -3.876335    41.32   \n",
       "(2328, 2327)     0.570884   2.437207  0.105195      -2.128007     8.94   \n",
       "(1471, 2327)     0.641634   2.744702  0.153445      -2.147851     4.60   \n",
       "\n",
       "              stock_2  stock_1_log  stock_2_log    spread       ASR        PS  \n",
       "(2413, 2392)    15.58     3.721347     2.745988  0.154853  1.518007  2.188418  \n",
       "(2328, 2327)    52.25     2.190536     3.956040  0.268292  2.550419  1.127325  \n",
       "(1471, 2327)    52.25     1.526056     3.956040  0.232169  1.513043  1.063142  "
      ]
     },
     "execution_count": 16,
     "metadata": {},
     "output_type": "execute_result"
    }
   ],
   "source": [
    "tradable_pairs = tradable_pairs[tradable_pairs.ASR >= ASR_threshold]\n",
    "tradable_pairs = tradable_pairs[tradable_pairs.ADF_statistic < ADF_threshold]\n",
    "tradable_pairs.sort_values('PS', ascending=False)"
   ]
  },
  {
   "cell_type": "code",
   "execution_count": null,
   "metadata": {},
   "outputs": [],
   "source": []
  },
  {
   "cell_type": "code",
   "execution_count": null,
   "metadata": {},
   "outputs": [],
   "source": []
  },
  {
   "cell_type": "code",
   "execution_count": null,
   "metadata": {},
   "outputs": [],
   "source": []
  },
  {
   "cell_type": "code",
   "execution_count": null,
   "metadata": {},
   "outputs": [],
   "source": []
  },
  {
   "cell_type": "code",
   "execution_count": null,
   "metadata": {},
   "outputs": [],
   "source": []
  },
  {
   "cell_type": "code",
   "execution_count": null,
   "metadata": {},
   "outputs": [],
   "source": [
    "%%time\n",
    "tradable_pairs = pd.DataFrame()\n",
    "for pair in possible_pairs:\n",
    "    stock_1 = data_for_model[data_for_model.code == pair[0]]\n",
    "    stock_2 = data_for_model[data_for_model.code == pair[1]]\n",
    "    # to ensure stock_1 and, stock_2 are match in date\n",
    "    stock_1, stock_2 = preprocess(stock_1, stock_2)\n",
    "    # to avoid \"maxlag should be < nobs\" error in ADF test\n",
    "    # also ensure there is enough data for regression\n",
    "    if len(stock_1) > 200:\n",
    "        temp_pair = test_is_tradable(stock_1.price, stock_2.price)\n",
    "        if temp_pair is not None:\n",
    "            temp_pair.index = [pair]\n",
    "            tradable_pairs = pd.concat([tradable_pairs, temp_pair])"
   ]
  },
  {
   "cell_type": "code",
   "execution_count": null,
   "metadata": {},
   "outputs": [],
   "source": [
    "%%time\n",
    "tradable_pairs_2 = pd.DataFrame()\n",
    "for pair in possible_pairs:\n",
    "    stock_1 = data_for_model[data_for_model.code == pair[0]]\n",
    "    stock_2 = data_for_model[data_for_model.code == pair[1]]\n",
    "    # to ensure stock_1 and, stock_2 are match in date\n",
    "#     stock_1, stock_2 = preprocess(stock_1, stock_2)\n",
    "    # to avoid \"maxlag should be < nobs\" error in ADF test\n",
    "    # also ensure there is enough data for regression\n",
    "    if len(stock_1) > 200:\n",
    "        try:\n",
    "            temp_pair = test_is_tradable(stock_1.price, stock_2.price)\n",
    "            if temp_pair is not None:\n",
    "                temp_pair.index = [pair]\n",
    "                tradable_pairs_2 = pd.concat([tradable_pairs_2, temp_pair])\n",
    "        except:\n",
    "            pass"
   ]
  }
 ],
 "metadata": {
  "kernelspec": {
   "display_name": "Python 3",
   "language": "python",
   "name": "python3"
  },
  "language_info": {
   "codemirror_mode": {
    "name": "ipython",
    "version": 3
   },
   "file_extension": ".py",
   "mimetype": "text/x-python",
   "name": "python",
   "nbconvert_exporter": "python",
   "pygments_lexer": "ipython3",
   "version": "3.6.3"
  }
 },
 "nbformat": 4,
 "nbformat_minor": 2
}
