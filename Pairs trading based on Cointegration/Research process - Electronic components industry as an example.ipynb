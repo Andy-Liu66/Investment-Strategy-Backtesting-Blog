{
 "cells": [
  {
   "cell_type": "code",
   "execution_count": 1,
   "metadata": {},
   "outputs": [],
   "source": [
    "import pandas as pd\n",
    "import numpy as np\n",
    "from datetime import datetime\n",
    "import matplotlib.pyplot as plt"
   ]
  },
  {
   "cell_type": "code",
   "execution_count": 2,
   "metadata": {
    "scrolled": true
   },
   "outputs": [
    {
     "data": {
      "text/html": [
       "<div>\n",
       "<style scoped>\n",
       "    .dataframe tbody tr th:only-of-type {\n",
       "        vertical-align: middle;\n",
       "    }\n",
       "\n",
       "    .dataframe tbody tr th {\n",
       "        vertical-align: top;\n",
       "    }\n",
       "\n",
       "    .dataframe thead th {\n",
       "        text-align: right;\n",
       "    }\n",
       "</style>\n",
       "<table border=\"1\" class=\"dataframe\">\n",
       "  <thead>\n",
       "    <tr style=\"text-align: right;\">\n",
       "      <th></th>\n",
       "      <th>code</th>\n",
       "      <th>name</th>\n",
       "      <th>industry_code</th>\n",
       "      <th>industry</th>\n",
       "      <th>date</th>\n",
       "      <th>price</th>\n",
       "    </tr>\n",
       "  </thead>\n",
       "  <tbody>\n",
       "    <tr>\n",
       "      <th>0</th>\n",
       "      <td>1471</td>\n",
       "      <td>首利</td>\n",
       "      <td>M23D</td>\n",
       "      <td>電子零組件</td>\n",
       "      <td>2000/01/04W2</td>\n",
       "      <td>8.98</td>\n",
       "    </tr>\n",
       "    <tr>\n",
       "      <th>1</th>\n",
       "      <td>2308</td>\n",
       "      <td>台達電</td>\n",
       "      <td>M23D</td>\n",
       "      <td>電子零組件</td>\n",
       "      <td>2000/01/04W2</td>\n",
       "      <td>25.32</td>\n",
       "    </tr>\n",
       "    <tr>\n",
       "      <th>2</th>\n",
       "      <td>2313</td>\n",
       "      <td>華通</td>\n",
       "      <td>M23B</td>\n",
       "      <td>主機板</td>\n",
       "      <td>2000/01/04W2</td>\n",
       "      <td>83.64</td>\n",
       "    </tr>\n",
       "    <tr>\n",
       "      <th>3</th>\n",
       "      <td>2316</td>\n",
       "      <td>楠梓電</td>\n",
       "      <td>M23B</td>\n",
       "      <td>主機板</td>\n",
       "      <td>2000/01/04W2</td>\n",
       "      <td>27.89</td>\n",
       "    </tr>\n",
       "    <tr>\n",
       "      <th>4</th>\n",
       "      <td>2327</td>\n",
       "      <td>國巨</td>\n",
       "      <td>M23D</td>\n",
       "      <td>電子零組件</td>\n",
       "      <td>2000/01/04W2</td>\n",
       "      <td>55.14</td>\n",
       "    </tr>\n",
       "  </tbody>\n",
       "</table>\n",
       "</div>"
      ],
      "text/plain": [
       "   code         name industry_code industry          date  price\n",
       "0  1471  首利                  M23D     電子零組件  2000/01/04W2   8.98\n",
       "1  2308   台達電                M23D     電子零組件  2000/01/04W2  25.32\n",
       "2  2313  華通                  M23B   主機板      2000/01/04W2  83.64\n",
       "3  2316   楠梓電                M23B   主機板      2000/01/04W2  27.89\n",
       "4  2327  國巨                  M23D     電子零組件  2000/01/04W2  55.14"
      ]
     },
     "execution_count": 2,
     "metadata": {},
     "output_type": "execute_result"
    }
   ],
   "source": [
    "data = pd.read_csv(\"electronic_components.csv\", encoding=\"big5\")\n",
    "\n",
    "data.columns = [\n",
    "    'code', 'name', 'industry_code', 'industry', 'date', 'price'\n",
    "]\n",
    "\n",
    "data.head()"
   ]
  },
  {
   "cell_type": "markdown",
   "metadata": {},
   "source": [
    "### 檢視TEJ產業分布，電子零組件為公司家數最高的公司，先選此類別為標的選擇pool"
   ]
  },
  {
   "cell_type": "code",
   "execution_count": 3,
   "metadata": {},
   "outputs": [
    {
     "data": {
      "text/html": [
       "<div>\n",
       "<style scoped>\n",
       "    .dataframe tbody tr th:only-of-type {\n",
       "        vertical-align: middle;\n",
       "    }\n",
       "\n",
       "    .dataframe tbody tr th {\n",
       "        vertical-align: top;\n",
       "    }\n",
       "\n",
       "    .dataframe thead th {\n",
       "        text-align: right;\n",
       "    }\n",
       "</style>\n",
       "<table border=\"1\" class=\"dataframe\">\n",
       "  <thead>\n",
       "    <tr style=\"text-align: right;\">\n",
       "      <th></th>\n",
       "      <th>code</th>\n",
       "      <th>name</th>\n",
       "      <th>industry_code</th>\n",
       "      <th>date</th>\n",
       "      <th>price</th>\n",
       "    </tr>\n",
       "    <tr>\n",
       "      <th>industry</th>\n",
       "      <th></th>\n",
       "      <th></th>\n",
       "      <th></th>\n",
       "      <th></th>\n",
       "      <th></th>\n",
       "    </tr>\n",
       "  </thead>\n",
       "  <tbody>\n",
       "    <tr>\n",
       "      <th>主機板</th>\n",
       "      <td>28</td>\n",
       "      <td>28</td>\n",
       "      <td>28</td>\n",
       "      <td>28</td>\n",
       "      <td>28</td>\n",
       "    </tr>\n",
       "    <tr>\n",
       "      <th>光電/ IO</th>\n",
       "      <td>4</td>\n",
       "      <td>4</td>\n",
       "      <td>4</td>\n",
       "      <td>4</td>\n",
       "      <td>4</td>\n",
       "    </tr>\n",
       "    <tr>\n",
       "      <th>汽車組件</th>\n",
       "      <td>1</td>\n",
       "      <td>1</td>\n",
       "      <td>1</td>\n",
       "      <td>1</td>\n",
       "      <td>1</td>\n",
       "    </tr>\n",
       "    <tr>\n",
       "      <th>消費性電子</th>\n",
       "      <td>1</td>\n",
       "      <td>1</td>\n",
       "      <td>1</td>\n",
       "      <td>1</td>\n",
       "      <td>1</td>\n",
       "    </tr>\n",
       "    <tr>\n",
       "      <th>資訊通路</th>\n",
       "      <td>1</td>\n",
       "      <td>1</td>\n",
       "      <td>1</td>\n",
       "      <td>1</td>\n",
       "      <td>1</td>\n",
       "    </tr>\n",
       "    <tr>\n",
       "      <th>金屬製品</th>\n",
       "      <td>1</td>\n",
       "      <td>1</td>\n",
       "      <td>1</td>\n",
       "      <td>1</td>\n",
       "      <td>1</td>\n",
       "    </tr>\n",
       "    <tr>\n",
       "      <th>電子設備</th>\n",
       "      <td>2</td>\n",
       "      <td>2</td>\n",
       "      <td>2</td>\n",
       "      <td>2</td>\n",
       "      <td>2</td>\n",
       "    </tr>\n",
       "    <tr>\n",
       "      <th>電子零組件</th>\n",
       "      <td>58</td>\n",
       "      <td>58</td>\n",
       "      <td>58</td>\n",
       "      <td>58</td>\n",
       "      <td>58</td>\n",
       "    </tr>\n",
       "  </tbody>\n",
       "</table>\n",
       "</div>"
      ],
      "text/plain": [
       "          code  name  industry_code  date  price\n",
       "industry                                        \n",
       "主機板         28    28             28    28     28\n",
       "光電/ IO       4     4              4     4      4\n",
       "汽車組件         1     1              1     1      1\n",
       "消費性電子        1     1              1     1      1\n",
       "資訊通路         1     1              1     1      1\n",
       "金屬製品         1     1              1     1      1\n",
       "電子設備         2     2              2     2      2\n",
       "電子零組件       58    58             58    58     58"
      ]
     },
     "execution_count": 3,
     "metadata": {},
     "output_type": "execute_result"
    }
   ],
   "source": [
    "test = data[data.date ==  \"2019/06/14W5\"]\n",
    "test.groupby(\"industry\").count()"
   ]
  },
  {
   "cell_type": "code",
   "execution_count": 4,
   "metadata": {
    "scrolled": true
   },
   "outputs": [
    {
     "data": {
      "text/html": [
       "<div>\n",
       "<style scoped>\n",
       "    .dataframe tbody tr th:only-of-type {\n",
       "        vertical-align: middle;\n",
       "    }\n",
       "\n",
       "    .dataframe tbody tr th {\n",
       "        vertical-align: top;\n",
       "    }\n",
       "\n",
       "    .dataframe thead th {\n",
       "        text-align: right;\n",
       "    }\n",
       "</style>\n",
       "<table border=\"1\" class=\"dataframe\">\n",
       "  <thead>\n",
       "    <tr style=\"text-align: right;\">\n",
       "      <th></th>\n",
       "      <th>code</th>\n",
       "      <th>name</th>\n",
       "      <th>industry_code</th>\n",
       "      <th>industry</th>\n",
       "      <th>date</th>\n",
       "      <th>price</th>\n",
       "    </tr>\n",
       "  </thead>\n",
       "  <tbody>\n",
       "    <tr>\n",
       "      <th>0</th>\n",
       "      <td>1471</td>\n",
       "      <td>首利</td>\n",
       "      <td>M23D</td>\n",
       "      <td>電子零組件</td>\n",
       "      <td>2000-01-04</td>\n",
       "      <td>8.98</td>\n",
       "    </tr>\n",
       "    <tr>\n",
       "      <th>1</th>\n",
       "      <td>2308</td>\n",
       "      <td>台達電</td>\n",
       "      <td>M23D</td>\n",
       "      <td>電子零組件</td>\n",
       "      <td>2000-01-04</td>\n",
       "      <td>25.32</td>\n",
       "    </tr>\n",
       "    <tr>\n",
       "      <th>4</th>\n",
       "      <td>2327</td>\n",
       "      <td>國巨</td>\n",
       "      <td>M23D</td>\n",
       "      <td>電子零組件</td>\n",
       "      <td>2000-01-04</td>\n",
       "      <td>55.14</td>\n",
       "    </tr>\n",
       "    <tr>\n",
       "      <th>5</th>\n",
       "      <td>2328</td>\n",
       "      <td>廣宇</td>\n",
       "      <td>M23D</td>\n",
       "      <td>電子零組件</td>\n",
       "      <td>2000-01-04</td>\n",
       "      <td>17.59</td>\n",
       "    </tr>\n",
       "    <tr>\n",
       "      <th>9</th>\n",
       "      <td>2375</td>\n",
       "      <td>智寶</td>\n",
       "      <td>M23D</td>\n",
       "      <td>電子零組件</td>\n",
       "      <td>2000-01-04</td>\n",
       "      <td>46.39</td>\n",
       "    </tr>\n",
       "  </tbody>\n",
       "</table>\n",
       "</div>"
      ],
      "text/plain": [
       "   code         name industry_code industry       date  price\n",
       "0  1471  首利                  M23D     電子零組件 2000-01-04   8.98\n",
       "1  2308   台達電                M23D     電子零組件 2000-01-04  25.32\n",
       "4  2327  國巨                  M23D     電子零組件 2000-01-04  55.14\n",
       "5  2328  廣宇                  M23D     電子零組件 2000-01-04  17.59\n",
       "9  2375  智寶                  M23D     電子零組件 2000-01-04  46.39"
      ]
     },
     "execution_count": 4,
     "metadata": {},
     "output_type": "execute_result"
    }
   ],
   "source": [
    "ec_data = data[data[\"industry\"] == \"電子零組件\"]\n",
    "ec_data = ec_data.copy()\n",
    "\n",
    "ec_data.loc[:, \"date\"] = list(map(\n",
    "    lambda x: datetime.strptime(x.split(\"W\")[0], \"%Y/%m/%d\"),\n",
    "    ec_data[\"date\"].values\n",
    "))\n",
    "\n",
    "ec_data.head()"
   ]
  },
  {
   "cell_type": "markdown",
   "metadata": {},
   "source": [
    "# 以1471, 2328為例子"
   ]
  },
  {
   "cell_type": "code",
   "execution_count": 5,
   "metadata": {},
   "outputs": [
    {
     "data": {
      "image/png": "[encoded data removed]",
      "text/plain": [
       "<matplotlib.figure.Figure at 0x21f2fbaf630>"
      ]
     },
     "metadata": {
      "needs_background": "light"
     },
     "output_type": "display_data"
    }
   ],
   "source": [
    "plt.plot(ec_data[ec_data.code == 1471][\"price\"], label='1471')\n",
    "plt.plot(ec_data[ec_data.code == 2328][\"price\"], label='2328')\n",
    "plt.legend();"
   ]
  },
  {
   "cell_type": "code",
   "execution_count": 6,
   "metadata": {},
   "outputs": [],
   "source": [
    "stock_1 = ec_data[ec_data.code == 1471][[\"price\", \"date\"]]\n",
    "stock_2 = ec_data[ec_data.code == 2328][[\"price\", \"date\"]]\n",
    "\n",
    "pairs = stock_1.merge(stock_2, on=\"date\", suffixes=('_1', '_2'))\n",
    "pairs[\"year\"] = pairs[\"date\"].apply(lambda x: x.year)\n",
    "pairs[\"month\"] = pairs[\"date\"].apply(lambda x: x.month)\n",
    "temp_pairs = pairs[pairs.year == 2000]"
   ]
  },
  {
   "cell_type": "markdown",
   "metadata": {},
   "source": [
    "## 步驟\n",
    "* 首先檢定價格序列本身是否為I(1)\n",
    "\n",
    "  →先看序列本身是否為非定態，取差分後又是否為定態\n",
    "\n",
    "* 確定兩序列皆為I(1)後，透過迴歸模型fit出一條線，接著看其residual是否為I(0)，若是則代表共整合存在"
   ]
  },
  {
   "cell_type": "markdown",
   "metadata": {},
   "source": [
    "## 檢定價格序列"
   ]
  },
  {
   "cell_type": "code",
   "execution_count": 7,
   "metadata": {},
   "outputs": [
    {
     "name": "stderr",
     "output_type": "stream",
     "text": [
      "C:\\Users\\andy5\\Anaconda3\\lib\\site-packages\\statsmodels\\compat\\pandas.py:56: FutureWarning: The pandas.core.datetools module is deprecated and will be removed in a future version. Please use the pandas.tseries module instead.\n",
      "  from pandas.core import datetools\n"
     ]
    }
   ],
   "source": [
    "from arch.unitroot import ADF\n",
    "\n",
    "def ADF_test_price(price, alpha=0.05):\n",
    "    adf_price = ADF(np.log(price))\n",
    "    adf_return = ADF(np.log(price).diff()[1:])\n",
    "    adf_price_is_pass = adf_price.pvalue < alpha\n",
    "    adf_return_is_pass = adf_return.pvalue < alpha\n",
    "    if (adf_price_is_pass == False) and (adf_return_is_pass == True):\n",
    "        is_I1 = True\n",
    "    else:\n",
    "        is_I1 = False\n",
    "        \n",
    "    result = pd.DataFrame([[\n",
    "        adf_price.pvalue, adf_price_is_pass, adf_return.pvalue, adf_return_is_pass, is_I1\n",
    "    ]],\n",
    "    columns=[\n",
    "        'adf_price_pvalue', 'adf_price_is_pass', 'adf_return_pvalue', 'adf_return_is_pass', 'is_I1'\n",
    "    ])\n",
    "    \n",
    "    return result"
   ]
  },
  {
   "cell_type": "code",
   "execution_count": 8,
   "metadata": {},
   "outputs": [
    {
     "data": {
      "text/html": [
       "<div>\n",
       "<style scoped>\n",
       "    .dataframe tbody tr th:only-of-type {\n",
       "        vertical-align: middle;\n",
       "    }\n",
       "\n",
       "    .dataframe tbody tr th {\n",
       "        vertical-align: top;\n",
       "    }\n",
       "\n",
       "    .dataframe thead th {\n",
       "        text-align: right;\n",
       "    }\n",
       "</style>\n",
       "<table border=\"1\" class=\"dataframe\">\n",
       "  <thead>\n",
       "    <tr style=\"text-align: right;\">\n",
       "      <th></th>\n",
       "      <th>adf_price_pvalue</th>\n",
       "      <th>adf_price_is_pass</th>\n",
       "      <th>adf_return_pvalue</th>\n",
       "      <th>adf_return_is_pass</th>\n",
       "      <th>is_I1</th>\n",
       "    </tr>\n",
       "  </thead>\n",
       "  <tbody>\n",
       "    <tr>\n",
       "      <th>0</th>\n",
       "      <td>0.779125</td>\n",
       "      <td>False</td>\n",
       "      <td>3.002042e-10</td>\n",
       "      <td>True</td>\n",
       "      <td>True</td>\n",
       "    </tr>\n",
       "  </tbody>\n",
       "</table>\n",
       "</div>"
      ],
      "text/plain": [
       "   adf_price_pvalue  adf_price_is_pass  adf_return_pvalue  adf_return_is_pass  \\\n",
       "0          0.779125              False       3.002042e-10                True   \n",
       "\n",
       "   is_I1  \n",
       "0   True  "
      ]
     },
     "execution_count": 8,
     "metadata": {},
     "output_type": "execute_result"
    }
   ],
   "source": [
    "ADF_test_price(temp_pairs[\"price_1\"])"
   ]
  },
  {
   "cell_type": "code",
   "execution_count": 9,
   "metadata": {
    "scrolled": true
   },
   "outputs": [
    {
     "data": {
      "text/html": [
       "<div>\n",
       "<style scoped>\n",
       "    .dataframe tbody tr th:only-of-type {\n",
       "        vertical-align: middle;\n",
       "    }\n",
       "\n",
       "    .dataframe tbody tr th {\n",
       "        vertical-align: top;\n",
       "    }\n",
       "\n",
       "    .dataframe thead th {\n",
       "        text-align: right;\n",
       "    }\n",
       "</style>\n",
       "<table border=\"1\" class=\"dataframe\">\n",
       "  <thead>\n",
       "    <tr style=\"text-align: right;\">\n",
       "      <th></th>\n",
       "      <th>adf_price_pvalue</th>\n",
       "      <th>adf_price_is_pass</th>\n",
       "      <th>adf_return_pvalue</th>\n",
       "      <th>adf_return_is_pass</th>\n",
       "      <th>is_I1</th>\n",
       "    </tr>\n",
       "  </thead>\n",
       "  <tbody>\n",
       "    <tr>\n",
       "      <th>0</th>\n",
       "      <td>0.995866</td>\n",
       "      <td>False</td>\n",
       "      <td>0.00007</td>\n",
       "      <td>True</td>\n",
       "      <td>True</td>\n",
       "    </tr>\n",
       "  </tbody>\n",
       "</table>\n",
       "</div>"
      ],
      "text/plain": [
       "   adf_price_pvalue  adf_price_is_pass  adf_return_pvalue  adf_return_is_pass  \\\n",
       "0          0.995866              False            0.00007                True   \n",
       "\n",
       "   is_I1  \n",
       "0   True  "
      ]
     },
     "execution_count": 9,
     "metadata": {},
     "output_type": "execute_result"
    }
   ],
   "source": [
    "ADF_test_price(temp_pairs['price_2'])"
   ]
  },
  {
   "cell_type": "markdown",
   "metadata": {},
   "source": [
    "## 建迴歸模型並檢定spread(以下將比較OLS與TLS的差異)"
   ]
  },
  {
   "cell_type": "markdown",
   "metadata": {},
   "source": [
    "![difference](https://i.imgur.com/d0tYpjV.png)"
   ]
  },
  {
   "cell_type": "markdown",
   "metadata": {},
   "source": [
    "### OLS模型"
   ]
  },
  {
   "cell_type": "code",
   "execution_count": 10,
   "metadata": {},
   "outputs": [],
   "source": [
    "from statsmodels.regression.linear_model import OLS\n",
    "from statsmodels.tools.tools import add_constant\n",
    "\n",
    "def run_regression(x, y):\n",
    "    X = add_constant(x)\n",
    "    Y = y\n",
    "    model = OLS(Y, X, missing=\"drop\")\n",
    "    result = model.fit()\n",
    "    return result"
   ]
  },
  {
   "cell_type": "code",
   "execution_count": 11,
   "metadata": {},
   "outputs": [
    {
     "name": "stdout",
     "output_type": "stream",
     "text": [
      "                            OLS Regression Results                            \n",
      "==============================================================================\n",
      "Dep. Variable:                price_2   R-squared:                       0.626\n",
      "Model:                            OLS   Adj. R-squared:                  0.625\n",
      "Method:                 Least Squares   F-statistic:                     450.7\n",
      "Date:                Thu, 27 Jun 2019   Prob (F-statistic):           2.00e-59\n",
      "Time:                        15:33:23   Log-Likelihood:                -54.795\n",
      "No. Observations:                 271   AIC:                             113.6\n",
      "Df Residuals:                     269   BIC:                             120.8\n",
      "Df Model:                           1                                         \n",
      "Covariance Type:            nonrobust                                         \n",
      "==============================================================================\n",
      "                 coef    std err          t      P>|t|      [0.025      0.975]\n",
      "------------------------------------------------------------------------------\n",
      "const          0.3088      0.120      2.565      0.011       0.072       0.546\n",
      "price_1        1.1995      0.057     21.230      0.000       1.088       1.311\n",
      "==============================================================================\n",
      "Omnibus:                       22.438   Durbin-Watson:                   0.028\n",
      "Prob(Omnibus):                  0.000   Jarque-Bera (JB):               26.364\n",
      "Skew:                          -0.757   Prob(JB):                     1.88e-06\n",
      "Kurtosis:                       2.789   Cond. No.                         17.3\n",
      "==============================================================================\n",
      "\n",
      "Warnings:\n",
      "[1] Standard Errors assume that the covariance matrix of the errors is correctly specified.\n"
     ]
    }
   ],
   "source": [
    "model_1 = run_regression(np.log(temp_pairs[\"price_1\"]), np.log(temp_pairs[\"price_2\"]))\n",
    "print(model_1.summary())"
   ]
  },
  {
   "cell_type": "code",
   "execution_count": 12,
   "metadata": {},
   "outputs": [
    {
     "data": {
      "text/html": [
       "<table class=\"simpletable\">\n",
       "<caption>Augmented Dickey-Fuller Results</caption>\n",
       "<tr>\n",
       "  <td>Test Statistic</td>    <td>-1.281</td>\n",
       "</tr>\n",
       "<tr>\n",
       "  <td>P-value</td>            <td>0.185</td>\n",
       "</tr>\n",
       "<tr>\n",
       "  <td>Lags</td>                   <td>7</td>\n",
       "</tr>\n",
       "</table>"
      ],
      "text/plain": [
       "<class 'arch.unitroot.unitroot.ADF'>\n",
       "\"\"\"\n",
       "   Augmented Dickey-Fuller Results   \n",
       "=====================================\n",
       "Test Statistic                 -1.281\n",
       "P-value                         0.185\n",
       "Lags                                7\n",
       "-------------------------------------\n",
       "\n",
       "Trend: No Trend\n",
       "Critical Values: -2.57 (1%), -1.94 (5%), -1.62 (10%)\n",
       "Null Hypothesis: The process contains a unit root.\n",
       "Alternative Hypothesis: The process is weakly stationary.\n",
       "\"\"\""
      ]
     },
     "execution_count": 12,
     "metadata": {},
     "output_type": "execute_result"
    }
   ],
   "source": [
    "# 發現residual非定態(殘差均值為0將trend設為nc)\n",
    "ADF(model_1.resid, trend=\"nc\")"
   ]
  },
  {
   "cell_type": "code",
   "execution_count": 13,
   "metadata": {},
   "outputs": [
    {
     "name": "stdout",
     "output_type": "stream",
     "text": [
      "                            OLS Regression Results                            \n",
      "==============================================================================\n",
      "Dep. Variable:                price_1   R-squared:                       0.626\n",
      "Model:                            OLS   Adj. R-squared:                  0.625\n",
      "Method:                 Least Squares   F-statistic:                     450.7\n",
      "Date:                Thu, 27 Jun 2019   Prob (F-statistic):           2.00e-59\n",
      "Time:                        15:33:23   Log-Likelihood:                 57.930\n",
      "No. Observations:                 271   AIC:                            -111.9\n",
      "Df Residuals:                     269   BIC:                            -104.7\n",
      "Df Model:                           1                                         \n",
      "Covariance Type:            nonrobust                                         \n",
      "==============================================================================\n",
      "                 coef    std err          t      P>|t|      [0.025      0.975]\n",
      "------------------------------------------------------------------------------\n",
      "const          0.6260      0.071      8.850      0.000       0.487       0.765\n",
      "price_2        0.5221      0.025     21.230      0.000       0.474       0.570\n",
      "==============================================================================\n",
      "Omnibus:                        7.812   Durbin-Watson:                   0.033\n",
      "Prob(Omnibus):                  0.020   Jarque-Bera (JB):                8.123\n",
      "Skew:                           0.416   Prob(JB):                       0.0172\n",
      "Kurtosis:                       2.833   Cond. No.                         19.1\n",
      "==============================================================================\n",
      "\n",
      "Warnings:\n",
      "[1] Standard Errors assume that the covariance matrix of the errors is correctly specified.\n"
     ]
    }
   ],
   "source": [
    "model_2 = run_regression(np.log(temp_pairs[\"price_2\"]), np.log(temp_pairs[\"price_1\"]))\n",
    "print(model_2.summary())"
   ]
  },
  {
   "cell_type": "code",
   "execution_count": 14,
   "metadata": {},
   "outputs": [
    {
     "data": {
      "text/html": [
       "<table class=\"simpletable\">\n",
       "<caption>Augmented Dickey-Fuller Results</caption>\n",
       "<tr>\n",
       "  <td>Test Statistic</td>    <td>-2.151</td>\n",
       "</tr>\n",
       "<tr>\n",
       "  <td>P-value</td>            <td>0.030</td>\n",
       "</tr>\n",
       "<tr>\n",
       "  <td>Lags</td>                   <td>7</td>\n",
       "</tr>\n",
       "</table>"
      ],
      "text/plain": [
       "<class 'arch.unitroot.unitroot.ADF'>\n",
       "\"\"\"\n",
       "   Augmented Dickey-Fuller Results   \n",
       "=====================================\n",
       "Test Statistic                 -2.151\n",
       "P-value                         0.030\n",
       "Lags                                7\n",
       "-------------------------------------\n",
       "\n",
       "Trend: No Trend\n",
       "Critical Values: -2.57 (1%), -1.94 (5%), -1.62 (10%)\n",
       "Null Hypothesis: The process contains a unit root.\n",
       "Alternative Hypothesis: The process is weakly stationary.\n",
       "\"\"\""
      ]
     },
     "execution_count": 14,
     "metadata": {},
     "output_type": "execute_result"
    }
   ],
   "source": [
    "# 發現residual為定態(殘差均值為0將trend設為nc)\n",
    "ADF(model_2.resid, trend=\"nc\")"
   ]
  },
  {
   "cell_type": "code",
   "execution_count": 15,
   "metadata": {},
   "outputs": [
    {
     "data": {
      "image/png": "[encoded data removed]",
      "text/plain": [
       "<matplotlib.figure.Figure at 0x21f2fbaf908>"
      ]
     },
     "metadata": {
      "needs_background": "light"
     },
     "output_type": "display_data"
    }
   ],
   "source": [
    "plt.figure(figsize=(12, 6))\n",
    "plt.plot(model_1.resid, label=\"model_1 (non_stationary)\")\n",
    "plt.plot(model_2.resid, label=\"model_2 (stationary)\")\n",
    "plt.legend();"
   ]
  },
  {
   "cell_type": "markdown",
   "metadata": {},
   "source": [
    "以上觀察可以發現(不用OLS的原因)：\n",
    "* 由上可以發現交換放x, y時，殘差是否為定態的p value竟然可以由顯著轉為不顯著，感覺不太solid\n",
    "* 交換放x, y時，作為long short比例的Beta係數會有差異(1.1995 vs 0.5221)，0.5221取倒數為1.9157可以發現比例差異很大。由於用TLS即使在交換x, y位置下，beta係數互為倒數，因此可以固定作為long short比例的Beta值(paper上看到的)→所以將選擇TLS模型"
   ]
  },
  {
   "cell_type": "markdown",
   "metadata": {},
   "source": [
    "## TLS模型"
   ]
  },
  {
   "cell_type": "code",
   "execution_count": 16,
   "metadata": {},
   "outputs": [],
   "source": [
    "from scipy import odr\n",
    "\n",
    "def f(B, x):\n",
    "    '''Linear function y = m*x + b'''\n",
    "    # B is a vector of the parameters.\n",
    "    # x is an array of the current x values.\n",
    "    # x is in the same format as the x passed to Data or RealData.\n",
    "    #\n",
    "    # Return an array in the same format as y passed to Data or RealData.\n",
    "    return B[0]*x + B[1]"
   ]
  },
  {
   "cell_type": "code",
   "execution_count": 17,
   "metadata": {
    "scrolled": true
   },
   "outputs": [
    {
     "name": "stdout",
     "output_type": "stream",
     "text": [
      "Beta: [ 1.67783217 -0.69851984]\n",
      "Beta Std Error: [ 0.07155313  0.15206033]\n",
      "Beta Covariance: [[ 0.17451813 -0.36754809]\n",
      " [-0.36754809  0.78816141]]\n",
      "Residual Variance: 0.02933706681145965\n",
      "Inverse Condition #: 0.04464581898217315\n",
      "Reason(s) for Halting:\n",
      "  Sum of squares convergence\n"
     ]
    }
   ],
   "source": [
    "linear = odr.Model(f)\n",
    "\n",
    "used_data = odr.Data(np.log(temp_pairs['price_1']),\n",
    "                     np.log(temp_pairs['price_2']))\n",
    "\n",
    "odr_model_1 = odr.ODR(used_data, linear, beta0=[1., 2.])\n",
    "\n",
    "result_1 = odr_model_1.run()\n",
    "\n",
    "result_1.pprint()"
   ]
  },
  {
   "cell_type": "code",
   "execution_count": 18,
   "metadata": {},
   "outputs": [],
   "source": [
    "spread_1 =(\n",
    "    np.log(temp_pairs['price_2']) -\n",
    "    result_1.beta[1] -\n",
    "    result_1.beta[0]*np.log(temp_pairs[\"price_1\"])\n",
    ")"
   ]
  },
  {
   "cell_type": "code",
   "execution_count": 19,
   "metadata": {},
   "outputs": [
    {
     "data": {
      "text/html": [
       "<table class=\"simpletable\">\n",
       "<caption>Augmented Dickey-Fuller Results</caption>\n",
       "<tr>\n",
       "  <td>Test Statistic</td>    <td>-2.045</td>\n",
       "</tr>\n",
       "<tr>\n",
       "  <td>P-value</td>            <td>0.039</td>\n",
       "</tr>\n",
       "<tr>\n",
       "  <td>Lags</td>                   <td>7</td>\n",
       "</tr>\n",
       "</table>"
      ],
      "text/plain": [
       "<class 'arch.unitroot.unitroot.ADF'>\n",
       "\"\"\"\n",
       "   Augmented Dickey-Fuller Results   \n",
       "=====================================\n",
       "Test Statistic                 -2.045\n",
       "P-value                         0.039\n",
       "Lags                                7\n",
       "-------------------------------------\n",
       "\n",
       "Trend: No Trend\n",
       "Critical Values: -2.57 (1%), -1.94 (5%), -1.62 (10%)\n",
       "Null Hypothesis: The process contains a unit root.\n",
       "Alternative Hypothesis: The process is weakly stationary.\n",
       "\"\"\""
      ]
     },
     "execution_count": 19,
     "metadata": {},
     "output_type": "execute_result"
    }
   ],
   "source": [
    "ADF(spread_1, trend=\"nc\")"
   ]
  },
  {
   "cell_type": "code",
   "execution_count": 20,
   "metadata": {
    "scrolled": true
   },
   "outputs": [
    {
     "name": "stdout",
     "output_type": "stream",
     "text": [
      "Beta: [ 0.59599691  0.41635192]\n",
      "Beta Std Error: [ 0.02541722  0.0730717 ]\n",
      "Beta Covariance: [[ 0.02202112 -0.06243249]\n",
      " [-0.06243249  0.18200433]]\n",
      "Residual Variance: 0.029337066814775818\n",
      "Inverse Condition #: 0.04469181070659225\n",
      "Reason(s) for Halting:\n",
      "  Sum of squares convergence\n"
     ]
    }
   ],
   "source": [
    "used_data = odr.Data(np.log(temp_pairs['price_2']),\n",
    "                     np.log(temp_pairs['price_1']))\n",
    "\n",
    "odr_model_2 = odr.ODR(used_data, linear, beta0=[1., 2.])\n",
    "\n",
    "result_2 = odr_model_2.run()\n",
    "\n",
    "result_2.pprint()"
   ]
  },
  {
   "cell_type": "code",
   "execution_count": 21,
   "metadata": {},
   "outputs": [],
   "source": [
    "spread_2 =(\n",
    "    np.log(temp_pairs['price_1']) -\n",
    "    result_2.beta[1] -\n",
    "    result_2.beta[0]*np.log(temp_pairs[\"price_2\"])\n",
    ")"
   ]
  },
  {
   "cell_type": "code",
   "execution_count": 22,
   "metadata": {},
   "outputs": [
    {
     "data": {
      "text/html": [
       "<table class=\"simpletable\">\n",
       "<caption>Augmented Dickey-Fuller Results</caption>\n",
       "<tr>\n",
       "  <td>Test Statistic</td>    <td>-2.045</td>\n",
       "</tr>\n",
       "<tr>\n",
       "  <td>P-value</td>            <td>0.039</td>\n",
       "</tr>\n",
       "<tr>\n",
       "  <td>Lags</td>                   <td>7</td>\n",
       "</tr>\n",
       "</table>"
      ],
      "text/plain": [
       "<class 'arch.unitroot.unitroot.ADF'>\n",
       "\"\"\"\n",
       "   Augmented Dickey-Fuller Results   \n",
       "=====================================\n",
       "Test Statistic                 -2.045\n",
       "P-value                         0.039\n",
       "Lags                                7\n",
       "-------------------------------------\n",
       "\n",
       "Trend: No Trend\n",
       "Critical Values: -2.57 (1%), -1.94 (5%), -1.62 (10%)\n",
       "Null Hypothesis: The process contains a unit root.\n",
       "Alternative Hypothesis: The process is weakly stationary.\n",
       "\"\"\""
      ]
     },
     "execution_count": 22,
     "metadata": {},
     "output_type": "execute_result"
    }
   ],
   "source": [
    "ADF(spread_2, trend=\"nc\")"
   ]
  },
  {
   "cell_type": "code",
   "execution_count": 23,
   "metadata": {
    "scrolled": true
   },
   "outputs": [
    {
     "data": {
      "image/png": "[encoded data removed]",
      "text/plain": [
       "<matplotlib.figure.Figure at 0x21f32a40320>"
      ]
     },
     "metadata": {
      "needs_background": "light"
     },
     "output_type": "display_data"
    }
   ],
   "source": [
    "plt.figure(figsize=(12, 6))\n",
    "plt.plot(spread_1, label=\"model_1 (stationary)\")\n",
    "plt.plot(spread_2, label=\"model_2 (stationary)\")\n",
    "plt.legend();"
   ]
  },
  {
   "cell_type": "markdown",
   "metadata": {},
   "source": [
    "以上觀察可以發現：\n",
    "* 由上可以發現使用TLS模型時交換放x, y，殘差是否為定態的p value皆為顯著\n",
    "* 可以發現Beta係數為1.67783217 vs 0.59599691，其中0.59599691的倒數為1.6778610，可以發現x, y互換時beta值的確為倒數，因此long short比例固定"
   ]
  },
  {
   "cell_type": "markdown",
   "metadata": {},
   "source": [
    "## 交易範例\n",
    "(使用TLS中的第一個模型)"
   ]
  },
  {
   "cell_type": "code",
   "execution_count": 24,
   "metadata": {},
   "outputs": [],
   "source": [
    "std_threshold = 2\n",
    "spread_upper_band = np.std(spread_1)*std_threshold\n",
    "spread_lower_band = -np.std(spread_1)*std_threshold"
   ]
  },
  {
   "cell_type": "markdown",
   "metadata": {},
   "source": [
    "### 模型估計出的參數使用資料為2000年的日資料，因此接下來檢視模型未看過的2001年20001資料"
   ]
  },
  {
   "cell_type": "code",
   "execution_count": 25,
   "metadata": {},
   "outputs": [],
   "source": [
    "unseen_pairs = pairs[(pairs.year == 2001) | (pairs.year == 2002)]\n",
    "\n",
    "spread_new =(\n",
    "    np.log(unseen_pairs['price_2']) -\n",
    "    result_1.beta[1] -\n",
    "    result_1.beta[0]*np.log(unseen_pairs[\"price_1\"])\n",
    ")"
   ]
  },
  {
   "cell_type": "code",
   "execution_count": 26,
   "metadata": {},
   "outputs": [
    {
     "data": {
      "text/html": [
       "<div>\n",
       "<style scoped>\n",
       "    .dataframe tbody tr th:only-of-type {\n",
       "        vertical-align: middle;\n",
       "    }\n",
       "\n",
       "    .dataframe tbody tr th {\n",
       "        vertical-align: top;\n",
       "    }\n",
       "\n",
       "    .dataframe thead th {\n",
       "        text-align: right;\n",
       "    }\n",
       "</style>\n",
       "<table border=\"1\" class=\"dataframe\">\n",
       "  <thead>\n",
       "    <tr style=\"text-align: right;\">\n",
       "      <th></th>\n",
       "      <th>price_1</th>\n",
       "      <th>date</th>\n",
       "      <th>price_2</th>\n",
       "      <th>year</th>\n",
       "      <th>month</th>\n",
       "      <th>spread</th>\n",
       "    </tr>\n",
       "  </thead>\n",
       "  <tbody>\n",
       "    <tr>\n",
       "      <th>271</th>\n",
       "      <td>4.90</td>\n",
       "      <td>2001-01-02</td>\n",
       "      <td>5.87</td>\n",
       "      <td>2001</td>\n",
       "      <td>1</td>\n",
       "      <td>-0.198095</td>\n",
       "    </tr>\n",
       "    <tr>\n",
       "      <th>272</th>\n",
       "      <td>4.62</td>\n",
       "      <td>2001-01-03</td>\n",
       "      <td>6.13</td>\n",
       "      <td>2001</td>\n",
       "      <td>1</td>\n",
       "      <td>-0.056031</td>\n",
       "    </tr>\n",
       "    <tr>\n",
       "      <th>273</th>\n",
       "      <td>4.89</td>\n",
       "      <td>2001-01-04</td>\n",
       "      <td>6.55</td>\n",
       "      <td>2001</td>\n",
       "      <td>1</td>\n",
       "      <td>-0.085057</td>\n",
       "    </tr>\n",
       "    <tr>\n",
       "      <th>274</th>\n",
       "      <td>5.18</td>\n",
       "      <td>2001-01-05</td>\n",
       "      <td>7.00</td>\n",
       "      <td>2001</td>\n",
       "      <td>1</td>\n",
       "      <td>-0.115277</td>\n",
       "    </tr>\n",
       "    <tr>\n",
       "      <th>275</th>\n",
       "      <td>5.50</td>\n",
       "      <td>2001-01-08</td>\n",
       "      <td>7.08</td>\n",
       "      <td>2001</td>\n",
       "      <td>1</td>\n",
       "      <td>-0.204487</td>\n",
       "    </tr>\n",
       "  </tbody>\n",
       "</table>\n",
       "</div>"
      ],
      "text/plain": [
       "     price_1       date  price_2  year  month    spread\n",
       "271     4.90 2001-01-02     5.87  2001      1 -0.198095\n",
       "272     4.62 2001-01-03     6.13  2001      1 -0.056031\n",
       "273     4.89 2001-01-04     6.55  2001      1 -0.085057\n",
       "274     5.18 2001-01-05     7.00  2001      1 -0.115277\n",
       "275     5.50 2001-01-08     7.08  2001      1 -0.204487"
      ]
     },
     "execution_count": 26,
     "metadata": {},
     "output_type": "execute_result"
    }
   ],
   "source": [
    "unseen_pairs = unseen_pairs.copy()\n",
    "unseen_pairs.loc[:, 'spread'] = spread_new\n",
    "unseen_pairs.head()"
   ]
  },
  {
   "cell_type": "code",
   "execution_count": 27,
   "metadata": {},
   "outputs": [],
   "source": [
    "stock_1 = unseen_pairs[['price_1', 'date', 'spread']]\n",
    "stock_1 = stock_1.copy()\n",
    "stock_1.rename(columns={'price_1': 'close'}, inplace=True)\n",
    "stock_1['spread_upper_band'] = spread_upper_band\n",
    "stock_1['spread_lower_band'] = spread_lower_band\n",
    "\n",
    "stock_2 = unseen_pairs[['price_2', 'date', 'spread']]\n",
    "stock_2 = stock_2.copy()\n",
    "stock_2.rename(columns={'price_2': 'close'}, inplace=True)"
   ]
  },
  {
   "cell_type": "code",
   "execution_count": 28,
   "metadata": {},
   "outputs": [
    {
     "data": {
      "image/png": "[encoded data removed]",
      "text/plain": [
       "<matplotlib.figure.Figure at 0x21f32a4cf60>"
      ]
     },
     "metadata": {
      "needs_background": "light"
     },
     "output_type": "display_data"
    }
   ],
   "source": [
    "time_index = pd.to_datetime(unseen_pairs.date)\n",
    "fig = plt.figure(figsize = (16, 8))\n",
    "\n",
    "ax1 = fig.add_subplot(111)\n",
    "ax1.plot(time_index,\n",
    "         unseen_pairs.price_1, label=\"stock-1471\")\n",
    "ax1.plot(time_index,\n",
    "         unseen_pairs.price_2, label=\"stock-2328\")\n",
    "ax1.legend(fontsize=15, loc=\"upper left\")\n",
    "plt.ylabel(\"Stock price\", fontsize = 20)\n",
    "\n",
    "ax2 = fig.add_subplot(111, sharex=ax1, frameon=False)\n",
    "plt.sca(ax2)\n",
    "plt.grid(False)\n",
    "ax2.plot(time_index,\n",
    "         spread_new.values, c='orange', alpha=0.6, label=\"spread\")\n",
    "ax2.plot(time_index,\n",
    "         [spread_upper_band]*len(spread_new), c=\"grey\", ls=\"--\")\n",
    "ax2.plot(time_index,\n",
    "         [spread_lower_band]*len(spread_new), c=\"grey\", ls=\"--\")\n",
    "ax2.legend(fontsize=15, loc=\"upper right\")\n",
    "ax2.yaxis.tick_right()\n",
    "ax2.yaxis.set_label_position(\"right\")\n",
    "plt.ylabel(\"Spread\", fontsize = 20)\n",
    "\n",
    "plt.title(\"Stock price and Spread\", fontsize=25);"
   ]
  },
  {
   "cell_type": "code",
   "execution_count": 29,
   "metadata": {},
   "outputs": [],
   "source": [
    "from pair_trading.basic_tool import preprocess, crossover, crossunder\n",
    "from pair_trading.strategy import Strategy\n",
    "from pair_trading.analysis import Analysis"
   ]
  },
  {
   "cell_type": "code",
   "execution_count": 30,
   "metadata": {},
   "outputs": [
    {
     "data": {
      "text/html": [
       "<div>\n",
       "<style scoped>\n",
       "    .dataframe tbody tr th:only-of-type {\n",
       "        vertical-align: middle;\n",
       "    }\n",
       "\n",
       "    .dataframe tbody tr th {\n",
       "        vertical-align: top;\n",
       "    }\n",
       "\n",
       "    .dataframe thead th {\n",
       "        text-align: right;\n",
       "    }\n",
       "</style>\n",
       "<table border=\"1\" class=\"dataframe\">\n",
       "  <thead>\n",
       "    <tr style=\"text-align: right;\">\n",
       "      <th></th>\n",
       "      <th>total_profit</th>\n",
       "      <th>average_return</th>\n",
       "      <th>winning_rate</th>\n",
       "      <th>max_drowdown</th>\n",
       "      <th>average_holding_days</th>\n",
       "      <th>total_trade_number</th>\n",
       "    </tr>\n",
       "  </thead>\n",
       "  <tbody>\n",
       "    <tr>\n",
       "      <th>0</th>\n",
       "      <td>6056.6406</td>\n",
       "      <td>1.2822</td>\n",
       "      <td>1.0</td>\n",
       "      <td>0.0</td>\n",
       "      <td>291.0</td>\n",
       "      <td>1</td>\n",
       "    </tr>\n",
       "  </tbody>\n",
       "</table>\n",
       "</div>"
      ],
      "text/plain": [
       "   total_profit  average_return  winning_rate  max_drowdown  \\\n",
       "0     6056.6406          1.2822           1.0           0.0   \n",
       "\n",
       "   average_holding_days  total_trade_number  \n",
       "0                 291.0                   1  "
      ]
     },
     "execution_count": 30,
     "metadata": {},
     "output_type": "execute_result"
    }
   ],
   "source": [
    "stock_1, stock_2 = preprocess(stock_1, stock_2)\n",
    "\n",
    "condition_in = [\n",
    "    crossover(stock_1.spread, stock_1.spread_upper_band)\n",
    "]\n",
    "\n",
    "condition_out = [\n",
    "    stock_1.spread < -2*np.std(spread_1)\n",
    "]\n",
    "\n",
    "strategy = Strategy(\n",
    "    # 訊號出現後何時進出場，0為出現後馬上執行交易，1為下一個價格執行交易，2...以此類推\n",
    "    next_bar=1,\n",
    "    # 以甚麼價格進行交易\n",
    "    trade_on='close',\n",
    "    # 初始資金(後續分析中沒有使用到)\n",
    "    initial_capital=1000000,\n",
    "    # 交易稅\n",
    "    tax_rate=0.003,\n",
    "    # 交易成本(率)\n",
    "    cost=0.001425\n",
    ")\n",
    "\n",
    "strategy.run(\n",
    "    # condition_in成立時欲做多的股票\n",
    "    stock_1,\n",
    "    # condition_in成立時欲放空的股票\n",
    "    stock_2,\n",
    "    # 進場訊號\n",
    "    condition_in,\n",
    "    # 出場訊號\n",
    "    condition_out,\n",
    "    # 對沖比率，預設為auto，亦即將兩兩欲交易的價格(trade_on)進行比較，\n",
    "    # 將價格較高者部位設為1，價格較低者部位則由高價除以低價並四捨五入\n",
    "    # 也可以輸入list如：[2, 1]，將會以2:1的部位進行交易(stock_to_buy : stock_to_sellshort)\n",
    "    hedge_ratio=[result_1.beta[0], 1]\n",
    ")\n",
    "\n",
    "strategy_analysis = Analysis(\n",
    "    # 欲分析的策略\n",
    "    strategy\n",
    ")\n",
    "\n",
    "# 進行分析\n",
    "strategy_analysis.run()\n",
    "\n",
    "# 策略績效基本資訊\n",
    "strategy_analysis.summary(\n",
    "    # 檢視策略績效總結果，另有'buy'(做多交易), 'sellshort'(放空交易)\n",
    "    select_result='total'\n",
    ")"
   ]
  },
  {
   "cell_type": "code",
   "execution_count": 31,
   "metadata": {
    "scrolled": true
   },
   "outputs": [
    {
     "data": {
      "text/html": [
       "<div>\n",
       "<style scoped>\n",
       "    .dataframe tbody tr th:only-of-type {\n",
       "        vertical-align: middle;\n",
       "    }\n",
       "\n",
       "    .dataframe tbody tr th {\n",
       "        vertical-align: top;\n",
       "    }\n",
       "\n",
       "    .dataframe thead th {\n",
       "        text-align: right;\n",
       "    }\n",
       "</style>\n",
       "<table border=\"1\" class=\"dataframe\">\n",
       "  <thead>\n",
       "    <tr style=\"text-align: right;\">\n",
       "      <th></th>\n",
       "      <th>net_profit</th>\n",
       "      <th>net_return</th>\n",
       "      <th>holding_date</th>\n",
       "      <th>maximum_favorable_excursion</th>\n",
       "      <th>maximum_adverse_excursion</th>\n",
       "    </tr>\n",
       "  </thead>\n",
       "  <tbody>\n",
       "    <tr>\n",
       "      <th>0</th>\n",
       "      <td>6056.640623</td>\n",
       "      <td>1.282161</td>\n",
       "      <td>291.0</td>\n",
       "      <td>16540.45321</td>\n",
       "      <td>-12624.055886</td>\n",
       "    </tr>\n",
       "  </tbody>\n",
       "</table>\n",
       "</div>"
      ],
      "text/plain": [
       "    net_profit  net_return  holding_date  maximum_favorable_excursion  \\\n",
       "0  6056.640623    1.282161         291.0                  16540.45321   \n",
       "\n",
       "   maximum_adverse_excursion  \n",
       "0              -12624.055886  "
      ]
     },
     "execution_count": 31,
     "metadata": {},
     "output_type": "execute_result"
    }
   ],
   "source": [
    "strategy_analysis.total_trade_result"
   ]
  },
  {
   "cell_type": "code",
   "execution_count": 32,
   "metadata": {},
   "outputs": [
    {
     "data": {
      "text/html": [
       "<div>\n",
       "<style scoped>\n",
       "    .dataframe tbody tr th:only-of-type {\n",
       "        vertical-align: middle;\n",
       "    }\n",
       "\n",
       "    .dataframe tbody tr th {\n",
       "        vertical-align: top;\n",
       "    }\n",
       "\n",
       "    .dataframe thead th {\n",
       "        text-align: right;\n",
       "    }\n",
       "</style>\n",
       "<table border=\"1\" class=\"dataframe\">\n",
       "  <thead>\n",
       "    <tr style=\"text-align: right;\">\n",
       "      <th></th>\n",
       "      <th>date</th>\n",
       "      <th>close_price</th>\n",
       "      <th>holdings</th>\n",
       "      <th>entry_exit_points</th>\n",
       "      <th>cash</th>\n",
       "      <th>total_value</th>\n",
       "      <th>cumulative_profit</th>\n",
       "    </tr>\n",
       "  </thead>\n",
       "  <tbody>\n",
       "    <tr>\n",
       "      <th>127</th>\n",
       "      <td>2001-07-12</td>\n",
       "      <td>3.68</td>\n",
       "      <td>6174.42238</td>\n",
       "      <td>1677.832168</td>\n",
       "      <td>9.938256e+05</td>\n",
       "      <td>1.000000e+06</td>\n",
       "      <td>0.000000</td>\n",
       "    </tr>\n",
       "    <tr>\n",
       "      <th>318</th>\n",
       "      <td>2002-04-29</td>\n",
       "      <td>11.41</td>\n",
       "      <td>0.00000</td>\n",
       "      <td>-1677.832168</td>\n",
       "      <td>1.012970e+06</td>\n",
       "      <td>1.012970e+06</td>\n",
       "      <td>12969.642662</td>\n",
       "    </tr>\n",
       "  </tbody>\n",
       "</table>\n",
       "</div>"
      ],
      "text/plain": [
       "          date  close_price    holdings  entry_exit_points          cash  \\\n",
       "127 2001-07-12         3.68  6174.42238        1677.832168  9.938256e+05   \n",
       "318 2002-04-29        11.41     0.00000       -1677.832168  1.012970e+06   \n",
       "\n",
       "      total_value  cumulative_profit  \n",
       "127  1.000000e+06           0.000000  \n",
       "318  1.012970e+06       12969.642662  "
      ]
     },
     "execution_count": 32,
     "metadata": {},
     "output_type": "execute_result"
    }
   ],
   "source": [
    "strategy_analysis.stock_to_buy_trade_table[\n",
    "    (strategy_analysis.stock_to_buy_trade_table.entry_exit_points >0) |\n",
    "    (strategy_analysis.stock_to_buy_trade_table.entry_exit_points <0)\n",
    "]"
   ]
  },
  {
   "cell_type": "code",
   "execution_count": 33,
   "metadata": {},
   "outputs": [
    {
     "data": {
      "text/html": [
       "<div>\n",
       "<style scoped>\n",
       "    .dataframe tbody tr th:only-of-type {\n",
       "        vertical-align: middle;\n",
       "    }\n",
       "\n",
       "    .dataframe tbody tr th {\n",
       "        vertical-align: top;\n",
       "    }\n",
       "\n",
       "    .dataframe thead th {\n",
       "        text-align: right;\n",
       "    }\n",
       "</style>\n",
       "<table border=\"1\" class=\"dataframe\">\n",
       "  <thead>\n",
       "    <tr style=\"text-align: right;\">\n",
       "      <th></th>\n",
       "      <th>total_profit</th>\n",
       "      <th>average_return</th>\n",
       "      <th>winning_rate</th>\n",
       "      <th>max_drowdown</th>\n",
       "      <th>average_holding_days</th>\n",
       "      <th>total_trade_number</th>\n",
       "    </tr>\n",
       "  </thead>\n",
       "  <tbody>\n",
       "    <tr>\n",
       "      <th>0</th>\n",
       "      <td>1293.8662</td>\n",
       "      <td>0.0041</td>\n",
       "      <td>1.0</td>\n",
       "      <td>0.0</td>\n",
       "      <td>246.0</td>\n",
       "      <td>1</td>\n",
       "    </tr>\n",
       "  </tbody>\n",
       "</table>\n",
       "</div>"
      ],
      "text/plain": [
       "   total_profit  average_return  winning_rate  max_drowdown  \\\n",
       "0     1293.8662          0.0041           1.0           0.0   \n",
       "\n",
       "   average_holding_days  total_trade_number  \n",
       "0                 246.0                   1  "
      ]
     },
     "execution_count": 33,
     "metadata": {},
     "output_type": "execute_result"
    }
   ],
   "source": [
    "condition_in = [\n",
    "    crossunder(stock_1.spread, stock_1.spread_lower_band)\n",
    "]\n",
    "\n",
    "condition_out = [\n",
    "    stock_1.spread > 2*np.std(spread_1)\n",
    "]\n",
    "\n",
    "strategy = Strategy(\n",
    "    # 訊號出現後何時進出場，0為出現後馬上執行交易，1為下一個價格執行交易，2...以此類推\n",
    "    next_bar=1,\n",
    "    # 以甚麼價格進行交易\n",
    "    trade_on='close',\n",
    "    # 初始資金(後續分析中沒有使用到)\n",
    "    initial_capital=1000000,\n",
    "    # 交易稅\n",
    "    tax_rate=0.003,\n",
    "    # 交易成本(率)\n",
    "    cost=0.001425\n",
    ")\n",
    "\n",
    "strategy.run(\n",
    "    # condition_in成立時欲做多的股票\n",
    "    stock_2,\n",
    "    # condition_in成立時欲放空的股票\n",
    "    stock_1,\n",
    "    # 進場訊號\n",
    "    condition_in,\n",
    "    # 出場訊號\n",
    "    condition_out,\n",
    "    # 對沖比率，預設為auto，亦即將兩兩欲交易的價格(trade_on)進行比較，\n",
    "    # 將價格較高者部位設為1，價格較低者部位則由高價除以低價並四捨五入\n",
    "    # 也可以輸入list如：[2, 1]，將會以2:1的部位進行交易(stock_to_buy : stock_to_sellshort)\n",
    "    hedge_ratio=[1, result_1.beta[0]]\n",
    ")\n",
    "\n",
    "strategy_analysis = Analysis(\n",
    "    # 欲分析的策略\n",
    "    strategy\n",
    ")\n",
    "\n",
    "# 進行分析\n",
    "strategy_analysis.run()\n",
    "\n",
    "# 策略績效基本資訊\n",
    "strategy_analysis.summary(\n",
    "    # 檢視策略績效總結果，另有'buy'(做多交易), 'sellshort'(放空交易)\n",
    "    select_result='total'\n",
    ")"
   ]
  },
  {
   "cell_type": "code",
   "execution_count": 34,
   "metadata": {
    "scrolled": true
   },
   "outputs": [
    {
     "data": {
      "text/html": [
       "<div>\n",
       "<style scoped>\n",
       "    .dataframe tbody tr th:only-of-type {\n",
       "        vertical-align: middle;\n",
       "    }\n",
       "\n",
       "    .dataframe tbody tr th {\n",
       "        vertical-align: top;\n",
       "    }\n",
       "\n",
       "    .dataframe thead th {\n",
       "        text-align: right;\n",
       "    }\n",
       "</style>\n",
       "<table border=\"1\" class=\"dataframe\">\n",
       "  <thead>\n",
       "    <tr style=\"text-align: right;\">\n",
       "      <th></th>\n",
       "      <th>net_profit</th>\n",
       "      <th>net_return</th>\n",
       "      <th>holding_date</th>\n",
       "      <th>maximum_favorable_excursion</th>\n",
       "      <th>maximum_adverse_excursion</th>\n",
       "    </tr>\n",
       "  </thead>\n",
       "  <tbody>\n",
       "    <tr>\n",
       "      <th>0</th>\n",
       "      <td>1293.866155</td>\n",
       "      <td>0.004109</td>\n",
       "      <td>246.0</td>\n",
       "      <td>8084.713009</td>\n",
       "      <td>-10498.900282</td>\n",
       "    </tr>\n",
       "  </tbody>\n",
       "</table>\n",
       "</div>"
      ],
      "text/plain": [
       "    net_profit  net_return  holding_date  maximum_favorable_excursion  \\\n",
       "0  1293.866155    0.004109         246.0                  8084.713009   \n",
       "\n",
       "   maximum_adverse_excursion  \n",
       "0              -10498.900282  "
      ]
     },
     "execution_count": 34,
     "metadata": {},
     "output_type": "execute_result"
    }
   ],
   "source": [
    "strategy_analysis.total_trade_result"
   ]
  },
  {
   "cell_type": "code",
   "execution_count": 35,
   "metadata": {},
   "outputs": [
    {
     "data": {
      "text/html": [
       "<div>\n",
       "<style scoped>\n",
       "    .dataframe tbody tr th:only-of-type {\n",
       "        vertical-align: middle;\n",
       "    }\n",
       "\n",
       "    .dataframe tbody tr th {\n",
       "        vertical-align: top;\n",
       "    }\n",
       "\n",
       "    .dataframe thead th {\n",
       "        text-align: right;\n",
       "    }\n",
       "</style>\n",
       "<table border=\"1\" class=\"dataframe\">\n",
       "  <thead>\n",
       "    <tr style=\"text-align: right;\">\n",
       "      <th></th>\n",
       "      <th>date</th>\n",
       "      <th>close_price</th>\n",
       "      <th>holdings</th>\n",
       "      <th>entry_exit_points</th>\n",
       "      <th>cash</th>\n",
       "      <th>total_value</th>\n",
       "      <th>cumulative_profit</th>\n",
       "    </tr>\n",
       "  </thead>\n",
       "  <tbody>\n",
       "    <tr>\n",
       "      <th>318</th>\n",
       "      <td>2002-04-29</td>\n",
       "      <td>15.23</td>\n",
       "      <td>15230.0</td>\n",
       "      <td>1000.0</td>\n",
       "      <td>984770.0</td>\n",
       "      <td>1000000.0</td>\n",
       "      <td>0.0</td>\n",
       "    </tr>\n",
       "    <tr>\n",
       "      <th>491</th>\n",
       "      <td>2002-12-31</td>\n",
       "      <td>10.57</td>\n",
       "      <td>0.0</td>\n",
       "      <td>-1000.0</td>\n",
       "      <td>995340.0</td>\n",
       "      <td>995340.0</td>\n",
       "      <td>-4660.0</td>\n",
       "    </tr>\n",
       "  </tbody>\n",
       "</table>\n",
       "</div>"
      ],
      "text/plain": [
       "          date  close_price  holdings  entry_exit_points      cash  \\\n",
       "318 2002-04-29        15.23   15230.0             1000.0  984770.0   \n",
       "491 2002-12-31        10.57       0.0            -1000.0  995340.0   \n",
       "\n",
       "     total_value  cumulative_profit  \n",
       "318    1000000.0                0.0  \n",
       "491     995340.0            -4660.0  "
      ]
     },
     "execution_count": 35,
     "metadata": {},
     "output_type": "execute_result"
    }
   ],
   "source": [
    "strategy_analysis.stock_to_buy_trade_table[\n",
    "    (strategy_analysis.stock_to_buy_trade_table.entry_exit_points >0) |\n",
    "    (strategy_analysis.stock_to_buy_trade_table.entry_exit_points <0)\n",
    "]"
   ]
  },
  {
   "cell_type": "markdown",
   "metadata": {},
   "source": [
    "# Reference\n",
    "* [Total Least Squares in comparison with OLS and ODR](https://towardsdatascience.com/total-least-squares-in-comparison-with-ols-and-odr-f050ffc1a86a)\n",
    "\n",
    "* [Orthogonal distance regression (scipy.odr)](https://docs.scipy.org/doc/scipy/reference/odr.html)"
   ]
  }
 ],
 "metadata": {
  "kernelspec": {
   "display_name": "Python 3",
   "language": "python",
   "name": "python3"
  },
  "language_info": {
   "codemirror_mode": {
    "name": "ipython",
    "version": 3
   },
   "file_extension": ".py",
   "mimetype": "text/x-python",
   "name": "python",
   "nbconvert_exporter": "python",
   "pygments_lexer": "ipython3",
   "version": "3.6.3"
  }
 },
 "nbformat": 4,
 "nbformat_minor": 2
}
