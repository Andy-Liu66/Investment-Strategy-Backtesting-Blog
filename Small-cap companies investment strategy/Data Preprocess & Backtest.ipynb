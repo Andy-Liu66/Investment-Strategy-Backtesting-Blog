{
 "cells": [
  {
   "cell_type": "code",
   "execution_count": 1,
   "metadata": {
    "collapsed": true
   },
   "outputs": [],
   "source": [
    "from main_strategy import *\n",
    "from datetime import datetime\n",
    "import matplotlib.pyplot as plt\n",
    "import seaborn as sns\n",
    "plt.style.use('seaborn')"
   ]
  },
  {
   "cell_type": "markdown",
   "metadata": {},
   "source": [
    "## Data Preprocess"
   ]
  },
  {
   "cell_type": "code",
   "execution_count": 2,
   "metadata": {},
   "outputs": [
    {
     "name": "stdout",
     "output_type": "stream",
     "text": [
      "Wall time: 1min 4s\n"
     ]
    }
   ],
   "source": [
    "%%time\n",
    "#load data\n",
    "data = pd.read_csv(\"data.csv\", low_memory=False)\n",
    "data.columns = [\"Code\", \"Company\", \"Industry\", \"Date\", \"Open\", \"High\", \"Low\", \"Close\", \"Volume\", \"MV\", \"PB\"]\n",
    "data.Date = data.Date.apply(lambda x : datetime.strptime(x, \"%Y/%m/%d\"))\n",
    "\n",
    "#find which years included in data\n",
    "data_year = data.Date.apply(lambda x : x.year).unique()\n",
    "\n",
    "#find unique trading dates in data\n",
    "data_date = pd.DataFrame(data.Date.unique(), columns = [\"Date\"])\n",
    "\n",
    "#find first trading date for each year, these dates will be used as entry points/exit points during backtesting\n",
    "first_date_each_year = []\n",
    "for year in data_year:\n",
    "    temp = data_date[data_date.Date.apply(lambda x : x.year == year)].min()[\"Date\"]\n",
    "    first_date_each_year.append(temp)"
   ]
  },
  {
   "cell_type": "markdown",
   "metadata": {},
   "source": [
    "## Backtest"
   ]
  },
  {
   "cell_type": "code",
   "execution_count": 3,
   "metadata": {
    "collapsed": true
   },
   "outputs": [],
   "source": [
    "#instantiate strategy object\n",
    "main = strategy(data, data_year, data_date, first_date_each_year)"
   ]
  },
  {
   "cell_type": "code",
   "execution_count": 4,
   "metadata": {
    "scrolled": false
   },
   "outputs": [
    {
     "name": "stdout",
     "output_type": "stream",
     "text": [
      "MV_True_A_equal...finished\n",
      "MV_True_A_MVbased...finished\n",
      "MV_True_B_equal...finished\n",
      "MV_True_B_MVbased...finished\n",
      "MV_True_C_equal...finished\n",
      "MV_True_C_MVbased...finished\n",
      "MV_False_A_equal...finished\n",
      "MV_False_A_MVbased...finished\n",
      "MV_False_B_equal...finished\n",
      "MV_False_B_MVbased...finished\n",
      "MV_False_C_equal...finished\n",
      "MV_False_C_MVbased...finished\n",
      "PB_True_A_equal...finished\n",
      "PB_True_A_MVbased...finished\n",
      "PB_True_B_equal...finished\n",
      "PB_True_B_MVbased...finished\n",
      "PB_True_C_equal...finished\n",
      "PB_True_C_MVbased...finished\n",
      "PB_False_A_equal...finished\n",
      "PB_False_A_MVbased...finished\n",
      "PB_False_B_equal...finished\n",
      "PB_False_B_MVbased...finished\n",
      "PB_False_C_equal...finished\n",
      "PB_False_C_MVbased...finished\n",
      "Wall time: 3h 35min 15s\n"
     ]
    }
   ],
   "source": [
    "%%time\n",
    "#given least volume = 10, initial_capital = 100, transaction_cost = 0.00585\n",
    "#there are five parameters \"num_selected\", \"by\", \"ascending\", \"trade_mode\", \"weight_mode\",\n",
    "#these parameters have 20, 2, 2, 3, 2 choices sequentially, \n",
    "#as a result, there are 20*2*2*3*2 or 480 results during backtesting, \n",
    "#each result contain [remain capital, return] according to differnt parameters\n",
    "\n",
    "num_selected = np.arange(5, 105, 5)\n",
    "by = [\"MV\", \"PB\"]\n",
    "ascending = [True, False]\n",
    "trade_mode = [\"A\", \"B\", \"C\"]\n",
    "weight_mode = [\"equal\", \"MVbased\"]\n",
    "\n",
    "result= {}\n",
    "result_temp = []\n",
    "for by_i in by:\n",
    "    for ascending_i in ascending:\n",
    "        for trade_mode_i in trade_mode:\n",
    "            for weight_mode_i in weight_mode:\n",
    "                for num_selected_i in num_selected:\n",
    "                    temp = main.calculate_return(by = by_i, ascending = ascending_i, \n",
    "                                                 trade_mode = trade_mode_i, weight_mode = weight_mode_i, \n",
    "                                                 num_selected = num_selected_i)\n",
    "                    result_temp.append(temp)\n",
    "\n",
    "                result[\"{}_{}_{}_{}\".format(by_i, ascending_i, trade_mode_i, weight_mode_i)] = result_temp\n",
    "                result_temp = []\n",
    "                print(\"{}_{}_{}_{}\".format(by_i, ascending_i, trade_mode_i, weight_mode_i)+\"...finished\")"
   ]
  },
  {
   "cell_type": "code",
   "execution_count": 5,
   "metadata": {
    "collapsed": true
   },
   "outputs": [],
   "source": [
    "np.save('result.npy', result) \n",
    "#result_test = np.load('result.npy').item()"
   ]
  },
  {
   "cell_type": "code",
   "execution_count": null,
   "metadata": {
    "collapsed": true
   },
   "outputs": [],
   "source": [
    "#data preprocess for ETF(0050, 0051), represent market performance\n",
    "ETF = pd.read_csv(\"ETFs.csv\")\n",
    "ETF.columns = [\"Company\", \"Date\", \"Code\", \"Open\", \"High\", \"Low\", \"Close\", \"Volume\"]\n",
    "ETF.Code = ETF.Company.apply(lambda x : x.split(\" \")[0])\n",
    "ETF.Company = ETF.Company.apply(lambda x : x.split(\" \")[1])\n",
    "ETF.Date = ETF.Date.apply(lambda x : datetime.strptime(x, \"%m/%d/%Y\"))\n",
    "ETF = ETF[ETF.Date.apply(lambda x : x in first_date_each_year)]\n",
    "\n",
    "#calculate return\n",
    "final_return = []\n",
    "for code in ETF.Code.unique():\n",
    "    temp = ETF[ETF.Code == code].sort_values(\"Date\", ascending = True)\n",
    "    temp_return = (temp.Close - temp.Close.shift()) / temp.Close.shift()\n",
    "    temp_return = (np.cumprod(temp_return.values[1:] + 1 - 0.00585)[-1]) * 100\n",
    "    temp_return = [temp_return, temp_return/100 -1]\n",
    "    final_return.append(temp_return)\n",
    "    \n",
    "result[\"0050\"] = final_return[0]\n",
    "result[\"0051\"] = final_return[1]\n",
    "\n",
    "np.save(\"result.npy\", result)"
   ]
  }
 ],
 "metadata": {
  "kernelspec": {
   "display_name": "Python 3",
   "language": "python",
   "name": "python3"
  },
  "language_info": {
   "codemirror_mode": {
    "name": "ipython",
    "version": 3
   },
   "file_extension": ".py",
   "mimetype": "text/x-python",
   "name": "python",
   "nbconvert_exporter": "python",
   "pygments_lexer": "ipython3",
   "version": "3.6.3"
  }
 },
 "nbformat": 4,
 "nbformat_minor": 2
}
