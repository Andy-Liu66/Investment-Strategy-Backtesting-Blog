{
 "cells": [
  {
   "cell_type": "code",
   "execution_count": 1,
   "metadata": {
    "collapsed": true
   },
   "outputs": [],
   "source": [
    "import pandas as pd\n",
    "import numpy as np\n",
    "from datetime import datetime"
   ]
  },
  {
   "cell_type": "markdown",
   "metadata": {},
   "source": [
    "## Data Preprocess"
   ]
  },
  {
   "cell_type": "code",
   "execution_count": 2,
   "metadata": {
    "scrolled": true
   },
   "outputs": [
    {
     "name": "stdout",
     "output_type": "stream",
     "text": [
      "Wall time: 50.2 s\n"
     ]
    }
   ],
   "source": [
    "%%time\n",
    "data = pd.read_csv(\"data.csv\", low_memory=False)\n",
    "data.columns = [\"Code\", \"Company\", \"Industry\", \"Date\", \"Open\", \"High\", \"Low\", \"Close\", \"Volume\", \"MV\", \"PB\"]\n",
    "data.Date = data.Date.apply(lambda x : datetime.strptime(x, \"%Y/%m/%d\"))\n",
    "data.head()"
   ]
  },
  {
   "cell_type": "markdown",
   "metadata": {},
   "source": [
    "**MV** is Market Value(in million NTD), **PB** is Price to Book ratio."
   ]
  },
  {
   "cell_type": "code",
   "execution_count": 3,
   "metadata": {
    "scrolled": true
   },
   "outputs": [
    {
     "name": "stdout",
     "output_type": "stream",
     "text": [
      "Wall time: 13.3 s\n"
     ]
    }
   ],
   "source": [
    "%%time\n",
    "#find which years included in data\n",
    "data_year = data.Date.apply(lambda x : x.year).unique()\n",
    "\n",
    "#find unique trading date in data\n",
    "data_date = pd.DataFrame(data.Date.unique(), columns = [\"Date\"])\n",
    "\n",
    "#find first trading date for each year, these dates will be used as entry points/exit points during backtesting\n",
    "first_date_each_year = []\n",
    "for year in data_year:\n",
    "    temp = data_date[data_date.Date.apply(lambda x : x.year == year)].min()[\"Date\"]\n",
    "    first_date_each_year.append(temp)"
   ]
  },
  {
   "cell_type": "markdown",
   "metadata": {},
   "source": [
    "## Backtest"
   ]
  },
  {
   "cell_type": "code",
   "execution_count": 4,
   "metadata": {
    "collapsed": true
   },
   "outputs": [],
   "source": [
    "def selected_company(data = data, num_selected = 10, by = \"MV\", ascending = True, least_volume = 10, trade_mode = \"A\"):\n",
    "    \n",
    "    data = data\n",
    "    #empty dataframe to collect result\n",
    "    selected_data = pd.DataFrame([])\n",
    "    for i in range(len(first_date_each_year)):\n",
    "        \n",
    "        #entry point\n",
    "        date_in = first_date_each_year[i]\n",
    "        #exit point == a year after entry point (use the latest date of data when dealing with last year)\n",
    "        try:\n",
    "            date_out = first_date_each_year[i + 1]\n",
    "        except:\n",
    "            date_out = data_date.iloc[-1, :][\"Date\"]\n",
    "            \n",
    "        #deal with entry trade\n",
    "        #selected companies need to possess trading data on appointed date\n",
    "        temp_data_in = data[data.Volume >= least_volume]\n",
    "        #also need to meet the requirement of least trading volume(in case of liquidity risk)\n",
    "        temp_data_in = temp_data_in[temp_data_in.Date == date_in]\n",
    "        temp_data_in = temp_data_in.sort_values(by = by, ascending = ascending).reset_index(drop = True)\n",
    "        temp_data_in = temp_data_in.iloc[0:num_selected, :]\n",
    "        \n",
    "        #deal with exit trade\n",
    "        temp_data_out = pd.DataFrame([])\n",
    "        for code in temp_data_in.Code:\n",
    "            temp_company = data[data.Code == code]\n",
    "            temp_date_out = pd.DataFrame(temp_company.Date - date_out).Date.apply(lambda x : x.days)\n",
    "            try:\n",
    "                #find the closest exit point according to appointed point\n",
    "                temp_date_out = temp_company.Date[temp_date_out[temp_date_out >= 0].idxmin()]\n",
    "                temp_result_out = temp_company[temp_company.Date == temp_date_out]\n",
    "                temp_result_out.columns = (data.columns + \"_out\")\n",
    "                \n",
    "                #if exit point's trade volume don't meet the requirement of least volume, then do:\n",
    "                if temp_result_out[\"Volume_out\"].values < least_volume:\n",
    "                    #in trade mode \"A, set exit price = 0(more realistic, because we maybe unable to sell at such a low liquidity)\n",
    "                    if trade_mode == \"A\":\n",
    "                        temp_result_out = pd.DataFrame([[0] * len(data.columns)], columns = (data.columns + \"_out\"))\n",
    "                    #in trade mode \"B\", set exit price = entry price\n",
    "                    if trade_mode == \"B\":\n",
    "                        temp_result_out = temp_data_in[temp_data_in.Code == code]\n",
    "                        temp_result_out.columns = (data.columns + \"_out\")\n",
    "                    \n",
    "            #if the company was unlisted, then for loop would jump to except, set exit price = 0\n",
    "            except:\n",
    "                temp_result_out = pd.DataFrame([[0] * len(data.columns)], columns = (data.columns + \"_out\"))\n",
    "\n",
    "            temp_data_out = pd.concat([temp_data_out, temp_result_out], axis = 0)\n",
    "            temp_data_out.reset_index(inplace = True, drop = True)\n",
    "        \n",
    "        temp_selected_data = pd.concat([temp_data_in,  temp_data_out], axis = 1)\n",
    "        selected_data = pd.concat([selected_data, temp_selected_data], axis = 0)\n",
    "        \n",
    "    total_return = (sum(selected_data[\"Close_out\"]) - sum(selected_data[\"Close\"])) / sum(selected_data[\"Close\"])\n",
    "    return selected_data# total_return"
   ]
  },
  {
   "cell_type": "code",
   "execution_count": 5,
   "metadata": {
    "collapsed": true
   },
   "outputs": [],
   "source": [
    "def calculate_return(data, weight_mode = \"equal\", initial_capital = 10000):\n",
    "    \n",
    "    for date in data.Date.unique():\n",
    "        temp = data[data.Date == date]\n",
    "        \n",
    "        if weight_mode == \"equal\":\n",
    "            weight_array = np.array([1/len(temp)] * len(temp))\n",
    "        if weight_mode == \"MV_based\":\n",
    "            weight_array = np.array(temp.MV / temp.MV.sum())\n",
    "            \n",
    "        temp_return =  ((temp.Close_out - temp.Close) / temp.Close + 1)\n",
    "        capital_allocation = initial_capital * weight_array\n",
    "        initial_capital = np.dot(capital_allocation, temp_return)\n",
    "        print(capital_allocation, initial_capital)\n",
    "        \n",
    "    return initial_capital"
   ]
  },
  {
   "cell_type": "code",
   "execution_count": 6,
   "metadata": {},
   "outputs": [
    {
     "name": "stdout",
     "output_type": "stream",
     "text": [
      "[ 1000.  1000.  1000.  1000.  1000.  1000.  1000.  1000.  1000.  1000.] 1696.46703523\n",
      "[ 169.64670352  169.64670352  169.64670352  169.64670352  169.64670352\n",
      "  169.64670352  169.64670352  169.64670352  169.64670352  169.64670352] 3212.73475426\n",
      "[ 321.27347543  321.27347543  321.27347543  321.27347543  321.27347543\n",
      "  321.27347543  321.27347543  321.27347543  321.27347543  321.27347543] 3321.70480582\n",
      "[ 332.17048058  332.17048058  332.17048058  332.17048058  332.17048058\n",
      "  332.17048058  332.17048058  332.17048058  332.17048058  332.17048058] 513.73600247\n",
      "[ 51.37360025  51.37360025  51.37360025  51.37360025  51.37360025\n",
      "  51.37360025  51.37360025  51.37360025  51.37360025  51.37360025] 456.93468084\n",
      "[ 45.69346808  45.69346808  45.69346808  45.69346808  45.69346808\n",
      "  45.69346808  45.69346808  45.69346808  45.69346808  45.69346808] 559.440645398\n",
      "[ 55.94406454  55.94406454  55.94406454  55.94406454  55.94406454\n",
      "  55.94406454  55.94406454  55.94406454  55.94406454  55.94406454] 1103.24051468\n",
      "[ 110.32405147  110.32405147  110.32405147  110.32405147  110.32405147\n",
      "  110.32405147  110.32405147  110.32405147  110.32405147  110.32405147] 172.327436486\n",
      "[ 17.23274365  17.23274365  17.23274365  17.23274365  17.23274365\n",
      "  17.23274365  17.23274365  17.23274365  17.23274365  17.23274365] 141.17839892\n",
      "[ 14.11783989  14.11783989  14.11783989  14.11783989  14.11783989\n",
      "  14.11783989  14.11783989  14.11783989  14.11783989  14.11783989] 84.6567035899\n",
      "[ 8.46567036  8.46567036  8.46567036  8.46567036  8.46567036  8.46567036\n",
      "  8.46567036  8.46567036  8.46567036  8.46567036] 89.0944474363\n",
      "Wall time: 9.13 s\n"
     ]
    }
   ],
   "source": [
    "%%time\n",
    "test = selected_company(trade_mode='A')\n",
    "calculate_return(test)"
   ]
  },
  {
   "cell_type": "code",
   "execution_count": 7,
   "metadata": {},
   "outputs": [
    {
     "name": "stdout",
     "output_type": "stream",
     "text": [
      "[  469.41678521   633.00142248   647.22617354   732.57467994   896.15931721\n",
      "  1095.30583215  1244.66571835  1372.68847795  1450.92460882  1458.03698435] 2191.96430625\n",
      "[ 114.11994915  178.71614678  180.86935336  228.23989829  232.54631147\n",
      "  234.69951806  243.31234441  254.07837735  258.38479052  266.99761687] 4531.41205396\n",
      "[ 179.79375332  255.9775471   356.54015488  380.91896889  393.1083759\n",
      "  499.76568719  563.76007396  585.09153622  652.13327475  664.32268175] 6428.4802812\n",
      "[ 390.39353934  427.98699128  615.95425097  650.65589891  650.65589891\n",
      "  708.49197881  708.49197881  743.19362675  754.76084273  777.89527469] 1084.36975102\n",
      "[  78.5233268    84.399222     99.35604615  100.42439073  106.83445823\n",
      "  114.8470426   115.38121489  126.06466071  126.598833    131.94055591] 927.083147861\n",
      "[  58.58440739   62.81214813   73.0795185    91.80237034   94.21822219\n",
      "   97.84199997  111.12918515  111.73314811  112.33711108  113.545037  ] 1118.68491739\n",
      "[  50.08026853   80.53448589   83.24152743   99.48377668  110.31194285\n",
      "  119.78658825  134.67531673  140.08939982  147.53376406  152.94784714] 2327.94653917\n",
      "[ 103.41922779  142.9618737   146.0036157   146.0036157   166.28189566\n",
      "  294.03505939  310.25768336  323.43856533  340.67510329  354.86989926] 401.052866076\n",
      "[ 30.79272844  33.18439667  35.87502343  39.16356724  41.854194\n",
      "  42.15315253  42.90054885  44.84377929  44.99325855  45.29221708] 323.979940589\n",
      "[ 17.82664745  18.29169043  32.08796541  32.70802271  33.32808001\n",
      "  33.79312299  38.28853843  38.59856708  38.75358141  40.30372467] 216.493066468\n",
      "[  7.52885753  15.59549059  19.05261905  22.27927228  23.35482335\n",
      "  24.43037443  24.96814997  25.96687596  26.58147658  26.73512673] 244.306576839\n",
      "Wall time: 10.9 s\n"
     ]
    }
   ],
   "source": [
    "%%time\n",
    "test = selected_company(trade_mode='A')\n",
    "calculate_return(test, weight_mode = \"MV_based\")"
   ]
  }
 ],
 "metadata": {
  "kernelspec": {
   "display_name": "Python 3",
   "language": "python",
   "name": "python3"
  },
  "language_info": {
   "codemirror_mode": {
    "name": "ipython",
    "version": 3
   },
   "file_extension": ".py",
   "mimetype": "text/x-python",
   "name": "python",
   "nbconvert_exporter": "python",
   "pygments_lexer": "ipython3",
   "version": "3.6.3"
  }
 },
 "nbformat": 4,
 "nbformat_minor": 2
}
